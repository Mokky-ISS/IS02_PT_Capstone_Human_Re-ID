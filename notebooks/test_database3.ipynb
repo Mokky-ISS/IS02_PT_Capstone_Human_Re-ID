{
 "cells": [
  {
   "cell_type": "code",
   "execution_count": 1,
   "metadata": {},
   "outputs": [
    {
     "name": "stdout",
     "output_type": "stream",
     "text": [
      "d:\\Users\\mokky\\Documents\\GitHub\\NUS-ISS\\IS02_PT_Capstone_Human_Re-ID\\notebooks\n",
      "d:\\Users\\mokky\\Documents\\GitHub\\NUS-ISS\\IS02_PT_Capstone_Human_Re-ID\n"
     ]
    }
   ],
   "source": [
    "import os\r\n",
    "print(os.getcwd())\r\n",
    "os.chdir('d:/Users/mokky/Documents/GitHub/NUS-ISS/IS02_PT_Capstone_Human_Re-ID')\r\n",
    "print(os.getcwd())\r\n"
   ]
  },
  {
   "cell_type": "code",
   "execution_count": 2,
   "metadata": {},
   "outputs": [],
   "source": [
    "import sqlite3\r\n",
    "from src.database.database import DbQuery\r\n",
    "import pandas as pd\r\n",
    "import matplotlib.pyplot as plt\r\n",
    "import cv2\r\n",
    "import numpy as np\r\n"
   ]
  },
  {
   "cell_type": "code",
   "execution_count": 3,
   "metadata": {},
   "outputs": [
    {
     "name": "stdout",
     "output_type": "stream",
     "text": [
      "                 name\n",
      "0     sqlite_sequence\n",
      "1      vectorkb_table\n",
      "2     inference_table\n",
      "3         human_table\n",
      "4  correctlabel_table\n",
      "['name']\n"
     ]
    }
   ],
   "source": [
    "db_path = 'database/reid_db_(480-682)_YS.db'\r\n",
    "query = \"SELECT name FROM sqlite_master WHERE type='table'\"\r\n",
    "conn_ys = sqlite3.connect(db_path, detect_types=sqlite3.PARSE_DECLTYPES |\r\n",
    "                       sqlite3.PARSE_COLNAMES)\r\n",
    "cursor_ys = conn_ys.cursor()\r\n",
    "cursor_ys.execute(query)\r\n",
    "column_names = [desc[0] for desc in cursor_ys.description]\r\n",
    "qry_results_ys = pd.DataFrame(cursor_ys.fetchall(), columns=column_names)\r\n",
    "print(qry_results_ys)\r\n",
    "print(column_names)\r\n"
   ]
  },
  {
   "cell_type": "code",
   "execution_count": 5,
   "metadata": {},
   "outputs": [
    {
     "name": "stdout",
     "output_type": "stream",
     "text": [
      "['img_id', 'is_correct', 'human_id']\n",
      "<class 'pandas.core.frame.DataFrame'>\n",
      "RangeIndex: 215 entries, 0 to 214\n",
      "Data columns (total 3 columns):\n",
      " #   Column      Non-Null Count  Dtype \n",
      "---  ------      --------------  ----- \n",
      " 0   img_id      215 non-null    object\n",
      " 1   is_correct  215 non-null    int64 \n",
      " 2   human_id    215 non-null    object\n",
      "dtypes: int64(1), object(2)\n",
      "memory usage: 5.2+ KB\n"
     ]
    },
    {
     "data": {
      "text/plain": [
       "None"
      ]
     },
     "metadata": {},
     "output_type": "display_data"
    },
    {
     "data": {
      "text/html": [
       "<div>\n",
       "<style scoped>\n",
       "    .dataframe tbody tr th:only-of-type {\n",
       "        vertical-align: middle;\n",
       "    }\n",
       "\n",
       "    .dataframe tbody tr th {\n",
       "        vertical-align: top;\n",
       "    }\n",
       "\n",
       "    .dataframe thead th {\n",
       "        text-align: right;\n",
       "    }\n",
       "</style>\n",
       "<table border=\"1\" class=\"dataframe\">\n",
       "  <thead>\n",
       "    <tr style=\"text-align: right;\">\n",
       "      <th></th>\n",
       "      <th>img_id</th>\n",
       "      <th>is_correct</th>\n",
       "      <th>human_id</th>\n",
       "    </tr>\n",
       "  </thead>\n",
       "  <tbody>\n",
       "    <tr>\n",
       "      <th>0</th>\n",
       "      <td>11_D08N_20210614T221325_137910</td>\n",
       "      <td>1</td>\n",
       "      <td>617</td>\n",
       "    </tr>\n",
       "    <tr>\n",
       "      <th>1</th>\n",
       "      <td>11_D08N_20210614T221403_137940</td>\n",
       "      <td>1</td>\n",
       "      <td>617</td>\n",
       "    </tr>\n",
       "    <tr>\n",
       "      <th>2</th>\n",
       "      <td>11_SJXB_20210614T165525_123090</td>\n",
       "      <td>1</td>\n",
       "      <td>547</td>\n",
       "    </tr>\n",
       "    <tr>\n",
       "      <th>3</th>\n",
       "      <td>11_SJXB_20210614T170022_123270</td>\n",
       "      <td>1</td>\n",
       "      <td>547</td>\n",
       "    </tr>\n",
       "    <tr>\n",
       "      <th>4</th>\n",
       "      <td>11_SJXB_20210614T172452_124200</td>\n",
       "      <td>1</td>\n",
       "      <td>547</td>\n",
       "    </tr>\n",
       "  </tbody>\n",
       "</table>\n",
       "</div>"
      ],
      "text/plain": [
       "                           img_id  is_correct human_id\n",
       "0  11_D08N_20210614T221325_137910           1      617\n",
       "1  11_D08N_20210614T221403_137940           1      617\n",
       "2  11_SJXB_20210614T165525_123090           1      547\n",
       "3  11_SJXB_20210614T170022_123270           1      547\n",
       "4  11_SJXB_20210614T172452_124200           1      547"
      ]
     },
     "metadata": {},
     "output_type": "display_data"
    }
   ],
   "source": [
    "table_name = 'correctlabel_table'\r\n",
    "query = f'SELECT * FROM {table_name}'\r\n",
    "cursor_ys.execute(query)\r\n",
    "column_names = [desc[0] for desc in cursor_ys.description]\r\n",
    "print(column_names)\r\n",
    "qry_results_ys = pd.DataFrame(cursor_ys.fetchall(), columns=column_names)\r\n",
    "display(qry_results_ys.info())\r\n",
    "display(qry_results_ys.head())\r\n"
   ]
  },
  {
   "cell_type": "code",
   "execution_count": 34,
   "metadata": {},
   "outputs": [
    {
     "name": "stdout",
     "output_type": "stream",
     "text": [
      "['img_id', 'human_id', 'inference_datetime', 'type']\n"
     ]
    },
    {
     "data": {
      "text/html": [
       "<div>\n",
       "<style scoped>\n",
       "    .dataframe tbody tr th:only-of-type {\n",
       "        vertical-align: middle;\n",
       "    }\n",
       "\n",
       "    .dataframe tbody tr th {\n",
       "        vertical-align: top;\n",
       "    }\n",
       "\n",
       "    .dataframe thead th {\n",
       "        text-align: right;\n",
       "    }\n",
       "</style>\n",
       "<table border=\"1\" class=\"dataframe\">\n",
       "  <thead>\n",
       "    <tr style=\"text-align: right;\">\n",
       "      <th></th>\n",
       "      <th>img_id</th>\n",
       "      <th>human_id</th>\n",
       "      <th>inference_datetime</th>\n",
       "      <th>type</th>\n",
       "    </tr>\n",
       "  </thead>\n",
       "  <tbody>\n",
       "    <tr>\n",
       "      <th>0</th>\n",
       "      <td>16_XVKH_20210612T125929_30</td>\n",
       "      <td>1</td>\n",
       "      <td>2021-06-15 12:21:42</td>\n",
       "      <td>New</td>\n",
       "    </tr>\n",
       "    <tr>\n",
       "      <th>1</th>\n",
       "      <td>3_3OMW_20210612T125934_30</td>\n",
       "      <td>2</td>\n",
       "      <td>2021-06-15 12:21:42</td>\n",
       "      <td>New</td>\n",
       "    </tr>\n",
       "    <tr>\n",
       "      <th>2</th>\n",
       "      <td>3_P0ZK_20210612T125950_30</td>\n",
       "      <td>3</td>\n",
       "      <td>2021-06-15 12:21:43</td>\n",
       "      <td>New</td>\n",
       "    </tr>\n",
       "    <tr>\n",
       "      <th>3</th>\n",
       "      <td>3_GUB6_20210612T125956_30</td>\n",
       "      <td>4</td>\n",
       "      <td>2021-06-15 12:21:43</td>\n",
       "      <td>New</td>\n",
       "    </tr>\n",
       "    <tr>\n",
       "      <th>4</th>\n",
       "      <td>3_GUB6_20210612T130224_90</td>\n",
       "      <td>5</td>\n",
       "      <td>2021-06-15 12:21:43</td>\n",
       "      <td>New</td>\n",
       "    </tr>\n",
       "  </tbody>\n",
       "</table>\n",
       "</div>"
      ],
      "text/plain": [
       "                       img_id human_id   inference_datetime type\n",
       "0  16_XVKH_20210612T125929_30        1  2021-06-15 12:21:42  New\n",
       "1   3_3OMW_20210612T125934_30        2  2021-06-15 12:21:42  New\n",
       "2   3_P0ZK_20210612T125950_30        3  2021-06-15 12:21:43  New\n",
       "3   3_GUB6_20210612T125956_30        4  2021-06-15 12:21:43  New\n",
       "4   3_GUB6_20210612T130224_90        5  2021-06-15 12:21:43  New"
      ]
     },
     "metadata": {},
     "output_type": "display_data"
    }
   ],
   "source": [
    "table_name = 'human_table'\r\n",
    "query = f'SELECT * FROM {table_name}'\r\n",
    "cursor_ys.execute(query)\r\n",
    "column_names = [desc[0] for desc in cursor_ys.description]\r\n",
    "print(column_names)\r\n",
    "qry_results_ys = pd.DataFrame(cursor_ys.fetchall(), columns=column_names)\r\n",
    "display(qry_results_ys.head())\r\n"
   ]
  },
  {
   "cell_type": "code",
   "execution_count": 35,
   "metadata": {},
   "outputs": [
    {
     "name": "stdout",
     "output_type": "stream",
     "text": [
      "['inference_id', 'query_img_id', 'query_img', 'match_1_img_id', 'match_1_img', 'match_1_dist', 'match_2_img_id', 'match_2_img', 'match_2_dist', 'match_3_img_id', 'match_3_img', 'match_3_dist', 'inference_datetime']\n"
     ]
    },
    {
     "data": {
      "text/html": [
       "<div>\n",
       "<style scoped>\n",
       "    .dataframe tbody tr th:only-of-type {\n",
       "        vertical-align: middle;\n",
       "    }\n",
       "\n",
       "    .dataframe tbody tr th {\n",
       "        vertical-align: top;\n",
       "    }\n",
       "\n",
       "    .dataframe thead th {\n",
       "        text-align: right;\n",
       "    }\n",
       "</style>\n",
       "<table border=\"1\" class=\"dataframe\">\n",
       "  <thead>\n",
       "    <tr style=\"text-align: right;\">\n",
       "      <th></th>\n",
       "      <th>inference_id</th>\n",
       "      <th>query_img_id</th>\n",
       "      <th>query_img</th>\n",
       "      <th>match_1_img_id</th>\n",
       "      <th>match_1_img</th>\n",
       "      <th>match_1_dist</th>\n",
       "      <th>match_2_img_id</th>\n",
       "      <th>match_2_img</th>\n",
       "      <th>match_2_dist</th>\n",
       "      <th>match_3_img_id</th>\n",
       "      <th>match_3_img</th>\n",
       "      <th>match_3_dist</th>\n",
       "      <th>inference_datetime</th>\n",
       "    </tr>\n",
       "  </thead>\n",
       "  <tbody>\n",
       "    <tr>\n",
       "      <th>0</th>\n",
       "      <td>24315</td>\n",
       "      <td>16_XVKH_20210612T125929_30</td>\n",
       "      <td>b'\\xff\\xd8\\xff\\xe0\\x00\\x10JFIF\\x00\\x01\\x01\\x00...</td>\n",
       "      <td>None</td>\n",
       "      <td>None</td>\n",
       "      <td>NaN</td>\n",
       "      <td>None</td>\n",
       "      <td>None</td>\n",
       "      <td>NaN</td>\n",
       "      <td>None</td>\n",
       "      <td>None</td>\n",
       "      <td>NaN</td>\n",
       "      <td>2021-06-15 12:21:42</td>\n",
       "    </tr>\n",
       "    <tr>\n",
       "      <th>1</th>\n",
       "      <td>24316</td>\n",
       "      <td>3_3OMW_20210612T125934_30</td>\n",
       "      <td>b'\\xff\\xd8\\xff\\xe0\\x00\\x10JFIF\\x00\\x01\\x01\\x00...</td>\n",
       "      <td>None</td>\n",
       "      <td>b'\\xff\\xd8\\xff\\xe0\\x00\\x10JFIF\\x00\\x01\\x01\\x00...</td>\n",
       "      <td>0.211681</td>\n",
       "      <td>None</td>\n",
       "      <td>None</td>\n",
       "      <td>NaN</td>\n",
       "      <td>None</td>\n",
       "      <td>None</td>\n",
       "      <td>NaN</td>\n",
       "      <td>2021-06-15 12:21:42</td>\n",
       "    </tr>\n",
       "    <tr>\n",
       "      <th>2</th>\n",
       "      <td>24317</td>\n",
       "      <td>3_P0ZK_20210612T125950_30</td>\n",
       "      <td>b'\\xff\\xd8\\xff\\xe0\\x00\\x10JFIF\\x00\\x01\\x01\\x00...</td>\n",
       "      <td>None</td>\n",
       "      <td>b'\\xff\\xd8\\xff\\xe0\\x00\\x10JFIF\\x00\\x01\\x01\\x00...</td>\n",
       "      <td>0.630488</td>\n",
       "      <td>None</td>\n",
       "      <td>b'\\xff\\xd8\\xff\\xe0\\x00\\x10JFIF\\x00\\x01\\x01\\x00...</td>\n",
       "      <td>0.322684</td>\n",
       "      <td>None</td>\n",
       "      <td>None</td>\n",
       "      <td>NaN</td>\n",
       "      <td>2021-06-15 12:21:43</td>\n",
       "    </tr>\n",
       "    <tr>\n",
       "      <th>3</th>\n",
       "      <td>24318</td>\n",
       "      <td>3_GUB6_20210612T125956_30</td>\n",
       "      <td>b'\\xff\\xd8\\xff\\xe0\\x00\\x10JFIF\\x00\\x01\\x01\\x00...</td>\n",
       "      <td>None</td>\n",
       "      <td>b'\\xff\\xd8\\xff\\xe0\\x00\\x10JFIF\\x00\\x01\\x01\\x00...</td>\n",
       "      <td>0.503716</td>\n",
       "      <td>None</td>\n",
       "      <td>b'\\xff\\xd8\\xff\\xe0\\x00\\x10JFIF\\x00\\x01\\x01\\x00...</td>\n",
       "      <td>0.368630</td>\n",
       "      <td>None</td>\n",
       "      <td>b'\\xff\\xd8\\xff\\xe0\\x00\\x10JFIF\\x00\\x01\\x01\\x00...</td>\n",
       "      <td>0.215568</td>\n",
       "      <td>2021-06-15 12:21:43</td>\n",
       "    </tr>\n",
       "    <tr>\n",
       "      <th>4</th>\n",
       "      <td>24319</td>\n",
       "      <td>3_GUB6_20210612T130224_90</td>\n",
       "      <td>b'\\xff\\xd8\\xff\\xe0\\x00\\x10JFIF\\x00\\x01\\x01\\x00...</td>\n",
       "      <td>None</td>\n",
       "      <td>b'\\xff\\xd8\\xff\\xe0\\x00\\x10JFIF\\x00\\x01\\x01\\x00...</td>\n",
       "      <td>0.629281</td>\n",
       "      <td>None</td>\n",
       "      <td>b'\\xff\\xd8\\xff\\xe0\\x00\\x10JFIF\\x00\\x01\\x01\\x00...</td>\n",
       "      <td>0.356152</td>\n",
       "      <td>None</td>\n",
       "      <td>b'\\xff\\xd8\\xff\\xe0\\x00\\x10JFIF\\x00\\x01\\x01\\x00...</td>\n",
       "      <td>0.324396</td>\n",
       "      <td>2021-06-15 12:21:43</td>\n",
       "    </tr>\n",
       "  </tbody>\n",
       "</table>\n",
       "</div>"
      ],
      "text/plain": [
       "   inference_id                query_img_id  \\\n",
       "0         24315  16_XVKH_20210612T125929_30   \n",
       "1         24316   3_3OMW_20210612T125934_30   \n",
       "2         24317   3_P0ZK_20210612T125950_30   \n",
       "3         24318   3_GUB6_20210612T125956_30   \n",
       "4         24319   3_GUB6_20210612T130224_90   \n",
       "\n",
       "                                           query_img match_1_img_id  \\\n",
       "0  b'\\xff\\xd8\\xff\\xe0\\x00\\x10JFIF\\x00\\x01\\x01\\x00...           None   \n",
       "1  b'\\xff\\xd8\\xff\\xe0\\x00\\x10JFIF\\x00\\x01\\x01\\x00...           None   \n",
       "2  b'\\xff\\xd8\\xff\\xe0\\x00\\x10JFIF\\x00\\x01\\x01\\x00...           None   \n",
       "3  b'\\xff\\xd8\\xff\\xe0\\x00\\x10JFIF\\x00\\x01\\x01\\x00...           None   \n",
       "4  b'\\xff\\xd8\\xff\\xe0\\x00\\x10JFIF\\x00\\x01\\x01\\x00...           None   \n",
       "\n",
       "                                         match_1_img  match_1_dist  \\\n",
       "0                                               None           NaN   \n",
       "1  b'\\xff\\xd8\\xff\\xe0\\x00\\x10JFIF\\x00\\x01\\x01\\x00...      0.211681   \n",
       "2  b'\\xff\\xd8\\xff\\xe0\\x00\\x10JFIF\\x00\\x01\\x01\\x00...      0.630488   \n",
       "3  b'\\xff\\xd8\\xff\\xe0\\x00\\x10JFIF\\x00\\x01\\x01\\x00...      0.503716   \n",
       "4  b'\\xff\\xd8\\xff\\xe0\\x00\\x10JFIF\\x00\\x01\\x01\\x00...      0.629281   \n",
       "\n",
       "  match_2_img_id                                        match_2_img  \\\n",
       "0           None                                               None   \n",
       "1           None                                               None   \n",
       "2           None  b'\\xff\\xd8\\xff\\xe0\\x00\\x10JFIF\\x00\\x01\\x01\\x00...   \n",
       "3           None  b'\\xff\\xd8\\xff\\xe0\\x00\\x10JFIF\\x00\\x01\\x01\\x00...   \n",
       "4           None  b'\\xff\\xd8\\xff\\xe0\\x00\\x10JFIF\\x00\\x01\\x01\\x00...   \n",
       "\n",
       "   match_2_dist match_3_img_id  \\\n",
       "0           NaN           None   \n",
       "1           NaN           None   \n",
       "2      0.322684           None   \n",
       "3      0.368630           None   \n",
       "4      0.356152           None   \n",
       "\n",
       "                                         match_3_img  match_3_dist  \\\n",
       "0                                               None           NaN   \n",
       "1                                               None           NaN   \n",
       "2                                               None           NaN   \n",
       "3  b'\\xff\\xd8\\xff\\xe0\\x00\\x10JFIF\\x00\\x01\\x01\\x00...      0.215568   \n",
       "4  b'\\xff\\xd8\\xff\\xe0\\x00\\x10JFIF\\x00\\x01\\x01\\x00...      0.324396   \n",
       "\n",
       "    inference_datetime  \n",
       "0  2021-06-15 12:21:42  \n",
       "1  2021-06-15 12:21:42  \n",
       "2  2021-06-15 12:21:43  \n",
       "3  2021-06-15 12:21:43  \n",
       "4  2021-06-15 12:21:43  "
      ]
     },
     "metadata": {},
     "output_type": "display_data"
    }
   ],
   "source": [
    "table_name = 'inference_table'\r\n",
    "query = f'SELECT * FROM {table_name}'\r\n",
    "cursor_ys.execute(query)\r\n",
    "column_names = [desc[0] for desc in cursor_ys.description]\r\n",
    "print(column_names)\r\n",
    "qry_results_ys = pd.DataFrame(cursor_ys.fetchall(), columns=column_names)\r\n",
    "display(qry_results_ys.head())\r\n"
   ]
  },
  {
   "cell_type": "code",
   "execution_count": 36,
   "metadata": {},
   "outputs": [
    {
     "name": "stdout",
     "output_type": "stream",
     "text": [
      "['img_id', 'is_correct', 'human_id']\n"
     ]
    },
    {
     "data": {
      "text/html": [
       "<div>\n",
       "<style scoped>\n",
       "    .dataframe tbody tr th:only-of-type {\n",
       "        vertical-align: middle;\n",
       "    }\n",
       "\n",
       "    .dataframe tbody tr th {\n",
       "        vertical-align: top;\n",
       "    }\n",
       "\n",
       "    .dataframe thead th {\n",
       "        text-align: right;\n",
       "    }\n",
       "</style>\n",
       "<table border=\"1\" class=\"dataframe\">\n",
       "  <thead>\n",
       "    <tr style=\"text-align: right;\">\n",
       "      <th></th>\n",
       "      <th>img_id</th>\n",
       "      <th>is_correct</th>\n",
       "      <th>human_id</th>\n",
       "    </tr>\n",
       "  </thead>\n",
       "  <tbody>\n",
       "    <tr>\n",
       "      <th>0</th>\n",
       "      <td>11_D08N_20210614T221325_137910</td>\n",
       "      <td>1</td>\n",
       "      <td>617</td>\n",
       "    </tr>\n",
       "    <tr>\n",
       "      <th>1</th>\n",
       "      <td>11_D08N_20210614T221403_137940</td>\n",
       "      <td>1</td>\n",
       "      <td>617</td>\n",
       "    </tr>\n",
       "    <tr>\n",
       "      <th>2</th>\n",
       "      <td>11_SJXB_20210614T165525_123090</td>\n",
       "      <td>1</td>\n",
       "      <td>547</td>\n",
       "    </tr>\n",
       "    <tr>\n",
       "      <th>3</th>\n",
       "      <td>11_SJXB_20210614T170022_123270</td>\n",
       "      <td>1</td>\n",
       "      <td>547</td>\n",
       "    </tr>\n",
       "    <tr>\n",
       "      <th>4</th>\n",
       "      <td>11_SJXB_20210614T172452_124200</td>\n",
       "      <td>1</td>\n",
       "      <td>547</td>\n",
       "    </tr>\n",
       "  </tbody>\n",
       "</table>\n",
       "</div>"
      ],
      "text/plain": [
       "                           img_id  is_correct human_id\n",
       "0  11_D08N_20210614T221325_137910           1      617\n",
       "1  11_D08N_20210614T221403_137940           1      617\n",
       "2  11_SJXB_20210614T165525_123090           1      547\n",
       "3  11_SJXB_20210614T170022_123270           1      547\n",
       "4  11_SJXB_20210614T172452_124200           1      547"
      ]
     },
     "metadata": {},
     "output_type": "display_data"
    },
    {
     "data": {
      "text/plain": [
       "img_id        215\n",
       "is_correct      2\n",
       "human_id       61\n",
       "dtype: int64"
      ]
     },
     "metadata": {},
     "output_type": "display_data"
    },
    {
     "data": {
      "text/plain": [
       "array(['617', '547', '555', '508', '546', '507', '519', '523', '583',\n",
       "       '569', '526', '594', '597', '521', '595', '568', '567', '625',\n",
       "       '596', '551', '643', '653', '494', '497', '631', '633', '608',\n",
       "       '645', '591', '615', '592', '634', '675', '627', '563', '632',\n",
       "       '486', '613', '506', '502', '611', '552', '557', '670', '671',\n",
       "       '672', '493', '496', '488', '649', '624', '663', '619', '639',\n",
       "       '646', '621', '612', '562', '605', '513', '530'], dtype=object)"
      ]
     },
     "metadata": {},
     "output_type": "display_data"
    }
   ],
   "source": [
    "table_name = 'correctlabel_table'\r\n",
    "query = f'SELECT m.img_id AS img_id, m.is_correct AS is_correct, h.human_id AS human_id FROM {table_name} AS m'\r\n",
    "query += \" INNER JOIN human_table AS h ON h.img_id=m.img_id\"\r\n",
    "cursor_ys.execute(query)\r\n",
    "column_names = [desc[0] for desc in cursor_ys.description]\r\n",
    "print(column_names)\r\n",
    "qry_results_ys = pd.DataFrame(cursor_ys.fetchall(), columns=column_names)\r\n",
    "display(qry_results_ys.head())\r\n",
    "display(qry_results_ys.nunique())\r\n",
    "display(qry_results_ys.human_id.unique())\r\n"
   ]
  },
  {
   "cell_type": "code",
   "execution_count": 37,
   "metadata": {},
   "outputs": [
    {
     "name": "stdout",
     "output_type": "stream",
     "text": [
      "                 name\n",
      "0     sqlite_sequence\n",
      "1      vectorkb_table\n",
      "2     inference_table\n",
      "3         human_table\n",
      "4  correctlabel_table\n",
      "['name']\n"
     ]
    }
   ],
   "source": [
    "db_path = 'database/reid_db_labelling (341-479)DC.db'\r\n",
    "query = \"SELECT name FROM sqlite_master WHERE type='table'\"\r\n",
    "conn_dc = sqlite3.connect(db_path, detect_types=sqlite3.PARSE_DECLTYPES |\r\n",
    "                       sqlite3.PARSE_COLNAMES)\r\n",
    "cursor_dc = conn_dc.cursor()\r\n",
    "cursor_dc.execute(query)\r\n",
    "column_names = [desc[0] for desc in cursor_dc.description]\r\n",
    "qry_results_dc = pd.DataFrame(cursor_dc.fetchall(), columns=column_names)\r\n",
    "print(qry_results_dc)\r\n",
    "print(column_names)\r\n"
   ]
  },
  {
   "cell_type": "code",
   "execution_count": 38,
   "metadata": {},
   "outputs": [
    {
     "name": "stdout",
     "output_type": "stream",
     "text": [
      "['img_id', 'is_correct', 'human_id']\n"
     ]
    },
    {
     "data": {
      "text/html": [
       "<div>\n",
       "<style scoped>\n",
       "    .dataframe tbody tr th:only-of-type {\n",
       "        vertical-align: middle;\n",
       "    }\n",
       "\n",
       "    .dataframe tbody tr th {\n",
       "        vertical-align: top;\n",
       "    }\n",
       "\n",
       "    .dataframe thead th {\n",
       "        text-align: right;\n",
       "    }\n",
       "</style>\n",
       "<table border=\"1\" class=\"dataframe\">\n",
       "  <thead>\n",
       "    <tr style=\"text-align: right;\">\n",
       "      <th></th>\n",
       "      <th>img_id</th>\n",
       "      <th>is_correct</th>\n",
       "      <th>human_id</th>\n",
       "    </tr>\n",
       "  </thead>\n",
       "  <tbody>\n",
       "    <tr>\n",
       "      <th>0</th>\n",
       "      <td>11_2W41_20210614T060558_94380</td>\n",
       "      <td>1</td>\n",
       "      <td>345</td>\n",
       "    </tr>\n",
       "    <tr>\n",
       "      <th>1</th>\n",
       "      <td>11_2W41_20210614T060638_94410</td>\n",
       "      <td>1</td>\n",
       "      <td>345</td>\n",
       "    </tr>\n",
       "    <tr>\n",
       "      <th>2</th>\n",
       "      <td>11_2W41_20210614T060718_94440</td>\n",
       "      <td>1</td>\n",
       "      <td>345</td>\n",
       "    </tr>\n",
       "    <tr>\n",
       "      <th>3</th>\n",
       "      <td>11_2W41_20210614T060757_94470</td>\n",
       "      <td>1</td>\n",
       "      <td>345</td>\n",
       "    </tr>\n",
       "    <tr>\n",
       "      <th>4</th>\n",
       "      <td>11_CKF6_20210614T045857_91170</td>\n",
       "      <td>1</td>\n",
       "      <td>407</td>\n",
       "    </tr>\n",
       "  </tbody>\n",
       "</table>\n",
       "</div>"
      ],
      "text/plain": [
       "                          img_id  is_correct human_id\n",
       "0  11_2W41_20210614T060558_94380           1      345\n",
       "1  11_2W41_20210614T060638_94410           1      345\n",
       "2  11_2W41_20210614T060718_94440           1      345\n",
       "3  11_2W41_20210614T060757_94470           1      345\n",
       "4  11_CKF6_20210614T045857_91170           1      407"
      ]
     },
     "metadata": {},
     "output_type": "display_data"
    },
    {
     "data": {
      "text/plain": [
       "img_id        166\n",
       "is_correct      2\n",
       "human_id       53\n",
       "dtype: int64"
      ]
     },
     "metadata": {},
     "output_type": "display_data"
    },
    {
     "data": {
      "text/plain": [
       "array(['345', '407', '405', '372', '389', '392', '402', '347', '348',\n",
       "       '386', '357', '373', '375', '379', '427', '374', '477', '468',\n",
       "       '470', '344', '391', '351', '449', '358', '455', '350', '451',\n",
       "       '416', '445', '356', '346', '443', '462', '466', '452', '456',\n",
       "       '458', '465', '442', '447', '459', '403', '404', '359', '444',\n",
       "       '457', '436', '362', '435', '343', '437', '469', '453'],\n",
       "      dtype=object)"
      ]
     },
     "metadata": {},
     "output_type": "display_data"
    }
   ],
   "source": [
    "table_name = 'correctlabel_table'\r\n",
    "query = f'SELECT m.img_id AS img_id, m.is_correct AS is_correct, h.human_id AS human_id FROM {table_name} AS m'\r\n",
    "query += \" INNER JOIN human_table AS h ON h.img_id=m.img_id\"\r\n",
    "cursor_dc.execute(query)\r\n",
    "column_names = [desc[0] for desc in cursor_dc.description]\r\n",
    "print(column_names)\r\n",
    "qry_results_dc = pd.DataFrame(cursor_dc.fetchall(), columns=column_names)\r\n",
    "display(qry_results_dc.head())\r\n",
    "display(qry_results_dc.nunique())\r\n",
    "display(qry_results_dc.human_id.unique())\r\n"
   ]
  },
  {
   "cell_type": "code",
   "execution_count": 39,
   "metadata": {},
   "outputs": [
    {
     "data": {
      "text/html": [
       "<div>\n",
       "<style scoped>\n",
       "    .dataframe tbody tr th:only-of-type {\n",
       "        vertical-align: middle;\n",
       "    }\n",
       "\n",
       "    .dataframe tbody tr th {\n",
       "        vertical-align: top;\n",
       "    }\n",
       "\n",
       "    .dataframe thead th {\n",
       "        text-align: right;\n",
       "    }\n",
       "</style>\n",
       "<table border=\"1\" class=\"dataframe\">\n",
       "  <thead>\n",
       "    <tr style=\"text-align: right;\">\n",
       "      <th></th>\n",
       "      <th>img_id</th>\n",
       "      <th>is_correct</th>\n",
       "      <th>human_id</th>\n",
       "    </tr>\n",
       "  </thead>\n",
       "  <tbody>\n",
       "  </tbody>\n",
       "</table>\n",
       "</div>"
      ],
      "text/plain": [
       "Empty DataFrame\n",
       "Columns: [img_id, is_correct, human_id]\n",
       "Index: []"
      ]
     },
     "metadata": {},
     "output_type": "display_data"
    }
   ],
   "source": [
    "#check if duplicate\r\n",
    "display(qry_results_ys[qry_results_ys.img_id.isin(qry_results_dc.human_id.unique())])\r\n"
   ]
  },
  {
   "cell_type": "code",
   "execution_count": 15,
   "metadata": {},
   "outputs": [
    {
     "name": "stdout",
     "output_type": "stream",
     "text": [
      "<class 'pandas.core.frame.DataFrame'>\n",
      "RangeIndex: 1 entries, 0 to 0\n",
      "Data columns (total 1 columns):\n",
      " #   Column  Non-Null Count  Dtype \n",
      "---  ------  --------------  ----- \n",
      " 0   merges  1 non-null      object\n",
      "dtypes: object(1)\n",
      "memory usage: 136.0+ bytes\n",
      "None\n",
      "    merges\n",
      "0  347,348\n"
     ]
    }
   ],
   "source": [
    "listMerge = [[\"347\", \"348\"]]\r\n",
    "df = pd.DataFrame({'merges': [','.join(item) for item in listMerge]})\r\n",
    "print(df.info())\r\n",
    "print(df)\r\n",
    "with sqlite3.connect('database/reid_db_merging.db', detect_types=sqlite3.PARSE_DECLTYPES |\r\n",
    "                     sqlite3.PARSE_COLNAMES) as conn:\r\n",
    "    df.to_sql(\"merge_table\", con=conn,\r\n",
    "              index=False, if_exists='replace')\r\n"
   ]
  },
  {
   "cell_type": "code",
   "execution_count": 17,
   "metadata": {},
   "outputs": [
    {
     "name": "stdout",
     "output_type": "stream",
     "text": [
      "[['347', '348']]\n"
     ]
    }
   ],
   "source": [
    "\r\n",
    "listMerge = [[\"347\", \"348\"]]\r\n",
    "df = pd.DataFrame({'merges': [','.join(item) for item in listMerge]})\r\n",
    "print([row[0].split(',') for _, row in df.iterrows()])\r\n"
   ]
  },
  {
   "cell_type": "code",
   "execution_count": 25,
   "metadata": {},
   "outputs": [
    {
     "name": "stdout",
     "output_type": "stream",
     "text": [
      "Empty DataFrame\n",
      "Columns: [name]\n",
      "Index: []\n",
      "['name']\n"
     ]
    }
   ],
   "source": [
    "db_path = 'database/reid_db_merging.db'\r\n",
    "query = \"SELECT name FROM sqlite_master WHERE type='table'\"\r\n",
    "conn = sqlite3.connect(db_path, detect_types=sqlite3.PARSE_DECLTYPES |\r\n",
    "                          sqlite3.PARSE_COLNAMES)\r\n",
    "cursor = conn.cursor()\r\n",
    "cursor.execute(query)\r\n",
    "column_names = [desc[0] for desc in cursor.description]\r\n",
    "qry_results = pd.DataFrame(cursor.fetchall(), columns=column_names)\r\n",
    "print(qry_results)\r\n",
    "print(column_names)\r\n"
   ]
  },
  {
   "cell_type": "code",
   "execution_count": 26,
   "metadata": {},
   "outputs": [
    {
     "ename": "OperationalError",
     "evalue": "no such table: merge_table",
     "output_type": "error",
     "traceback": [
      "\u001b[1;31m---------------------------------------------------------------------------\u001b[0m",
      "\u001b[1;31mOperationalError\u001b[0m                          Traceback (most recent call last)",
      "\u001b[1;32m<ipython-input-26-26e3873091f9>\u001b[0m in \u001b[0;36m<module>\u001b[1;34m\u001b[0m\n\u001b[0;32m      1\u001b[0m \u001b[0mtable_name\u001b[0m \u001b[1;33m=\u001b[0m \u001b[1;34m'merge_table'\u001b[0m\u001b[1;33m\u001b[0m\u001b[1;33m\u001b[0m\u001b[0m\n\u001b[0;32m      2\u001b[0m \u001b[0mquery\u001b[0m \u001b[1;33m=\u001b[0m \u001b[1;34mf'SELECT * FROM {table_name}'\u001b[0m\u001b[1;33m\u001b[0m\u001b[1;33m\u001b[0m\u001b[0m\n\u001b[1;32m----> 3\u001b[1;33m \u001b[0mcursor\u001b[0m\u001b[1;33m.\u001b[0m\u001b[0mexecute\u001b[0m\u001b[1;33m(\u001b[0m\u001b[0mquery\u001b[0m\u001b[1;33m)\u001b[0m\u001b[1;33m\u001b[0m\u001b[1;33m\u001b[0m\u001b[0m\n\u001b[0m\u001b[0;32m      4\u001b[0m \u001b[0mcolumn_names\u001b[0m \u001b[1;33m=\u001b[0m \u001b[1;33m[\u001b[0m\u001b[0mdesc\u001b[0m\u001b[1;33m[\u001b[0m\u001b[1;36m0\u001b[0m\u001b[1;33m]\u001b[0m \u001b[1;32mfor\u001b[0m \u001b[0mdesc\u001b[0m \u001b[1;32min\u001b[0m \u001b[0mcursor\u001b[0m\u001b[1;33m.\u001b[0m\u001b[0mdescription\u001b[0m\u001b[1;33m]\u001b[0m\u001b[1;33m\u001b[0m\u001b[1;33m\u001b[0m\u001b[0m\n\u001b[0;32m      5\u001b[0m \u001b[0mprint\u001b[0m\u001b[1;33m(\u001b[0m\u001b[0mcolumn_names\u001b[0m\u001b[1;33m)\u001b[0m\u001b[1;33m\u001b[0m\u001b[1;33m\u001b[0m\u001b[0m\n",
      "\u001b[1;31mOperationalError\u001b[0m: no such table: merge_table"
     ]
    }
   ],
   "source": [
    "table_name = 'merge_table'\r\n",
    "query = f'SELECT * FROM {table_name}'\r\n",
    "cursor.execute(query)\r\n",
    "column_names = [desc[0] for desc in cursor.description]\r\n",
    "print(column_names)\r\n",
    "qry_results = pd.DataFrame(cursor.fetchall(), columns=column_names)\r\n",
    "display(qry_results.head())\r\n"
   ]
  }
 ],
 "metadata": {
  "interpreter": {
   "hash": "8fcf4430fa2e5e4c1ca46c7b555eba853fd859f5fdead0da3ab15662515d7eea"
  },
  "kernelspec": {
   "display_name": "Python 3.7.9 64-bit ('pose37': conda)",
   "name": "python3"
  },
  "language_info": {
   "codemirror_mode": {
    "name": "ipython",
    "version": 3
   },
   "file_extension": ".py",
   "mimetype": "text/x-python",
   "name": "python",
   "nbconvert_exporter": "python",
   "pygments_lexer": "ipython3",
   "version": "3.7.9"
  },
  "orig_nbformat": 4
 },
 "nbformat": 4,
 "nbformat_minor": 2
}