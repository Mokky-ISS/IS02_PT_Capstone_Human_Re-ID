{
 "cells": [
  {
   "cell_type": "code",
   "execution_count": 9,
   "source": [
    "import os\r\n",
    "print(os.getcwd())\r\n",
    "os.chdir('d:/Users/mokky/Documents/GitHub/NUS-ISS/IS02_PT_Capstone_Human_Re-ID')\r\n",
    "print(os.getcwd())\r\n"
   ],
   "outputs": [
    {
     "output_type": "stream",
     "name": "stdout",
     "text": [
      "d:\\Users\\mokky\\Documents\\GitHub\\NUS-ISS\\IS02_PT_Capstone_Human_Re-ID\n",
      "d:\\Users\\mokky\\Documents\\GitHub\\NUS-ISS\\IS02_PT_Capstone_Human_Re-ID\n"
     ]
    }
   ],
   "metadata": {}
  },
  {
   "cell_type": "code",
   "execution_count": 2,
   "source": [
    "import sqlite3\r\n",
    "from src.database.database import DbQuery\r\n",
    "import pandas as pd\r\n",
    "import matplotlib.pyplot as plt\r\n",
    "import cv2\r\n",
    "import numpy as np\r\n"
   ],
   "outputs": [],
   "metadata": {}
  },
  {
   "cell_type": "code",
   "execution_count": 7,
   "source": [
    "db_path = 'reid/Reid_20210816.db'\r\n",
    "query = \"SELECT name FROM sqlite_master WHERE type='table'\"\r\n",
    "conn = sqlite3.connect(db_path, detect_types=sqlite3.PARSE_DECLTYPES |\r\n",
    "                          sqlite3.PARSE_COLNAMES)\r\n",
    "cursor = conn.cursor()\r\n",
    "cursor.execute(query)\r\n",
    "column_names = [desc[0] for desc in cursor.description]\r\n",
    "qry_results = pd.DataFrame(cursor.fetchall(), columns=column_names)\r\n",
    "print(qry_results)\r\n",
    "print(qry_results.name.tolist())\r\n"
   ],
   "outputs": [
    {
     "output_type": "stream",
     "name": "stdout",
     "text": [
      "             name\n",
      "0  vectorkb_table\n",
      "['vectorkb_table']\n"
     ]
    }
   ],
   "metadata": {}
  },
  {
   "cell_type": "code",
   "execution_count": 8,
   "source": [
    "table_name = 'vectorkb_table'\r\n",
    "query = f'SELECT * FROM {table_name}'\r\n",
    "cursor.execute(query)\r\n",
    "column_names = [desc[0] for desc in cursor.description]\r\n",
    "qry_results = pd.DataFrame(cursor.fetchall(), columns=column_names)\r\n",
    "display(qry_results.info())\r\n",
    "display(qry_results.head())\r\n"
   ],
   "outputs": [
    {
     "output_type": "stream",
     "name": "stdout",
     "text": [
      "<class 'pandas.core.frame.DataFrame'>\n",
      "RangeIndex: 63 entries, 0 to 62\n",
      "Data columns (total 6 columns):\n",
      " #   Column           Non-Null Count  Dtype \n",
      "---  ------           --------------  ----- \n",
      " 0   img_id           63 non-null     object\n",
      " 1   img              63 non-null     object\n",
      " 2   vector_tensor    63 non-null     object\n",
      " 3   create_datetime  0 non-null      object\n",
      " 4   cam_id           63 non-null     int64 \n",
      " 5   track_id         63 non-null     object\n",
      "dtypes: int64(1), object(5)\n",
      "memory usage: 3.1+ KB\n"
     ]
    },
    {
     "output_type": "display_data",
     "data": {
      "text/plain": [
       "None"
      ]
     },
     "metadata": {}
    },
    {
     "output_type": "display_data",
     "data": {
      "text/plain": [
       "                   img_id                                                img  \\\n",
       "0  3_AI1S_20210816T105856  b'\\xff\\xd8\\xff\\xe0\\x00\\x10JFIF\\x00\\x01\\x01\\x00...   \n",
       "1  3_VDNW_20210816T105914  b'\\xff\\xd8\\xff\\xe0\\x00\\x10JFIF\\x00\\x01\\x01\\x00...   \n",
       "2  3_VDNW_20210816T105918  b'\\xff\\xd8\\xff\\xe0\\x00\\x10JFIF\\x00\\x01\\x01\\x00...   \n",
       "3  3_VDNW_20210816T105923  b'\\xff\\xd8\\xff\\xe0\\x00\\x10JFIF\\x00\\x01\\x01\\x00...   \n",
       "4  3_QY1H_20210816T105943  b'\\xff\\xd8\\xff\\xe0\\x00\\x10JFIF\\x00\\x01\\x01\\x00...   \n",
       "\n",
       "                                       vector_tensor create_datetime  cam_id  \\\n",
       "0  b'\\x80\\x03ctorch._utils\\n_rebuild_tensor_v2\\nq...            None       3   \n",
       "1  b'\\x80\\x03ctorch._utils\\n_rebuild_tensor_v2\\nq...            None       3   \n",
       "2  b'\\x80\\x03ctorch._utils\\n_rebuild_tensor_v2\\nq...            None       3   \n",
       "3  b'\\x80\\x03ctorch._utils\\n_rebuild_tensor_v2\\nq...            None       3   \n",
       "4  b'\\x80\\x03ctorch._utils\\n_rebuild_tensor_v2\\nq...            None       3   \n",
       "\n",
       "  track_id  \n",
       "0     AI1S  \n",
       "1     VDNW  \n",
       "2     VDNW  \n",
       "3     VDNW  \n",
       "4     QY1H  "
      ],
      "text/html": [
       "<div>\n",
       "<style scoped>\n",
       "    .dataframe tbody tr th:only-of-type {\n",
       "        vertical-align: middle;\n",
       "    }\n",
       "\n",
       "    .dataframe tbody tr th {\n",
       "        vertical-align: top;\n",
       "    }\n",
       "\n",
       "    .dataframe thead th {\n",
       "        text-align: right;\n",
       "    }\n",
       "</style>\n",
       "<table border=\"1\" class=\"dataframe\">\n",
       "  <thead>\n",
       "    <tr style=\"text-align: right;\">\n",
       "      <th></th>\n",
       "      <th>img_id</th>\n",
       "      <th>img</th>\n",
       "      <th>vector_tensor</th>\n",
       "      <th>create_datetime</th>\n",
       "      <th>cam_id</th>\n",
       "      <th>track_id</th>\n",
       "    </tr>\n",
       "  </thead>\n",
       "  <tbody>\n",
       "    <tr>\n",
       "      <th>0</th>\n",
       "      <td>3_AI1S_20210816T105856</td>\n",
       "      <td>b'\\xff\\xd8\\xff\\xe0\\x00\\x10JFIF\\x00\\x01\\x01\\x00...</td>\n",
       "      <td>b'\\x80\\x03ctorch._utils\\n_rebuild_tensor_v2\\nq...</td>\n",
       "      <td>None</td>\n",
       "      <td>3</td>\n",
       "      <td>AI1S</td>\n",
       "    </tr>\n",
       "    <tr>\n",
       "      <th>1</th>\n",
       "      <td>3_VDNW_20210816T105914</td>\n",
       "      <td>b'\\xff\\xd8\\xff\\xe0\\x00\\x10JFIF\\x00\\x01\\x01\\x00...</td>\n",
       "      <td>b'\\x80\\x03ctorch._utils\\n_rebuild_tensor_v2\\nq...</td>\n",
       "      <td>None</td>\n",
       "      <td>3</td>\n",
       "      <td>VDNW</td>\n",
       "    </tr>\n",
       "    <tr>\n",
       "      <th>2</th>\n",
       "      <td>3_VDNW_20210816T105918</td>\n",
       "      <td>b'\\xff\\xd8\\xff\\xe0\\x00\\x10JFIF\\x00\\x01\\x01\\x00...</td>\n",
       "      <td>b'\\x80\\x03ctorch._utils\\n_rebuild_tensor_v2\\nq...</td>\n",
       "      <td>None</td>\n",
       "      <td>3</td>\n",
       "      <td>VDNW</td>\n",
       "    </tr>\n",
       "    <tr>\n",
       "      <th>3</th>\n",
       "      <td>3_VDNW_20210816T105923</td>\n",
       "      <td>b'\\xff\\xd8\\xff\\xe0\\x00\\x10JFIF\\x00\\x01\\x01\\x00...</td>\n",
       "      <td>b'\\x80\\x03ctorch._utils\\n_rebuild_tensor_v2\\nq...</td>\n",
       "      <td>None</td>\n",
       "      <td>3</td>\n",
       "      <td>VDNW</td>\n",
       "    </tr>\n",
       "    <tr>\n",
       "      <th>4</th>\n",
       "      <td>3_QY1H_20210816T105943</td>\n",
       "      <td>b'\\xff\\xd8\\xff\\xe0\\x00\\x10JFIF\\x00\\x01\\x01\\x00...</td>\n",
       "      <td>b'\\x80\\x03ctorch._utils\\n_rebuild_tensor_v2\\nq...</td>\n",
       "      <td>None</td>\n",
       "      <td>3</td>\n",
       "      <td>QY1H</td>\n",
       "    </tr>\n",
       "  </tbody>\n",
       "</table>\n",
       "</div>"
      ]
     },
     "metadata": {}
    }
   ],
   "metadata": {}
  },
  {
   "cell_type": "code",
   "execution_count": 16,
   "source": [
    "sorted(qry_results.cam_id.unique().tolist())\r\n",
    "for cam_id in sorted(qry_results.cam_id.unique().tolist()):\r\n",
    "    for idx, row in qry_results[qry_results.cam_id == cam_id].iterrows():\r\n",
    "        print(row.cam_id)\r\n"
   ],
   "outputs": [
    {
     "output_type": "stream",
     "name": "stdout",
     "text": [
      "3\n",
      "3\n",
      "3\n",
      "3\n",
      "3\n",
      "3\n",
      "3\n",
      "3\n",
      "3\n",
      "3\n",
      "3\n",
      "3\n",
      "3\n",
      "3\n",
      "3\n",
      "3\n",
      "3\n",
      "3\n",
      "3\n",
      "3\n",
      "3\n",
      "3\n",
      "3\n",
      "3\n",
      "3\n",
      "3\n",
      "3\n",
      "3\n",
      "3\n",
      "3\n",
      "3\n",
      "3\n",
      "3\n",
      "3\n",
      "3\n",
      "3\n",
      "3\n",
      "15\n",
      "15\n",
      "15\n",
      "15\n",
      "15\n",
      "15\n",
      "15\n",
      "15\n",
      "15\n",
      "15\n",
      "15\n",
      "15\n",
      "15\n",
      "15\n",
      "15\n",
      "15\n",
      "15\n",
      "15\n",
      "15\n",
      "15\n",
      "15\n",
      "15\n",
      "15\n",
      "15\n",
      "15\n",
      "15\n"
     ]
    }
   ],
   "metadata": {}
  },
  {
   "cell_type": "code",
   "execution_count": 10,
   "source": [
    "table_name = 'vectorkb_table'\r\n",
    "query = f\"SELECT * FROM INFORMATION_SCHEMA.COLUMNS WHERE TABLE_NAME='{table_name}'\"\r\n",
    "cursor.execute(query)\r\n",
    "column_names = [desc[0] for desc in cursor.description]\r\n",
    "qry_results = pd.DataFrame(cursor.fetchall(), columns=column_names)\r\n",
    "display(qry_results.info())\r\n",
    "display(qry_results.head())\r\n"
   ],
   "outputs": [
    {
     "output_type": "error",
     "ename": "OperationalError",
     "evalue": "no such table: INFORMATION_SCHEMA.COLUMNS",
     "traceback": [
      "\u001b[1;31m---------------------------------------------------------------------------\u001b[0m",
      "\u001b[1;31mOperationalError\u001b[0m                          Traceback (most recent call last)",
      "\u001b[1;32m~\\AppData\\Local\\Temp/ipykernel_14972/1343405297.py\u001b[0m in \u001b[0;36m<module>\u001b[1;34m\u001b[0m\n\u001b[0;32m      1\u001b[0m \u001b[0mtable_name\u001b[0m \u001b[1;33m=\u001b[0m \u001b[1;34m'vectorkb_table'\u001b[0m\u001b[1;33m\u001b[0m\u001b[1;33m\u001b[0m\u001b[0m\n\u001b[0;32m      2\u001b[0m \u001b[0mquery\u001b[0m \u001b[1;33m=\u001b[0m \u001b[1;34mf\"SELECT * FROM INFORMATION_SCHEMA.COLUMNS WHERE TABLE_NAME='{table_name}'\"\u001b[0m\u001b[1;33m\u001b[0m\u001b[1;33m\u001b[0m\u001b[0m\n\u001b[1;32m----> 3\u001b[1;33m \u001b[0mcursor\u001b[0m\u001b[1;33m.\u001b[0m\u001b[0mexecute\u001b[0m\u001b[1;33m(\u001b[0m\u001b[0mquery\u001b[0m\u001b[1;33m)\u001b[0m\u001b[1;33m\u001b[0m\u001b[1;33m\u001b[0m\u001b[0m\n\u001b[0m\u001b[0;32m      4\u001b[0m \u001b[0mcolumn_names\u001b[0m \u001b[1;33m=\u001b[0m \u001b[1;33m[\u001b[0m\u001b[0mdesc\u001b[0m\u001b[1;33m[\u001b[0m\u001b[1;36m0\u001b[0m\u001b[1;33m]\u001b[0m \u001b[1;32mfor\u001b[0m \u001b[0mdesc\u001b[0m \u001b[1;32min\u001b[0m \u001b[0mcursor\u001b[0m\u001b[1;33m.\u001b[0m\u001b[0mdescription\u001b[0m\u001b[1;33m]\u001b[0m\u001b[1;33m\u001b[0m\u001b[1;33m\u001b[0m\u001b[0m\n\u001b[0;32m      5\u001b[0m \u001b[0mqry_results\u001b[0m \u001b[1;33m=\u001b[0m \u001b[0mpd\u001b[0m\u001b[1;33m.\u001b[0m\u001b[0mDataFrame\u001b[0m\u001b[1;33m(\u001b[0m\u001b[0mcursor\u001b[0m\u001b[1;33m.\u001b[0m\u001b[0mfetchall\u001b[0m\u001b[1;33m(\u001b[0m\u001b[1;33m)\u001b[0m\u001b[1;33m,\u001b[0m \u001b[0mcolumns\u001b[0m\u001b[1;33m=\u001b[0m\u001b[0mcolumn_names\u001b[0m\u001b[1;33m)\u001b[0m\u001b[1;33m\u001b[0m\u001b[1;33m\u001b[0m\u001b[0m\n",
      "\u001b[1;31mOperationalError\u001b[0m: no such table: INFORMATION_SCHEMA.COLUMNS"
     ]
    }
   ],
   "metadata": {}
  },
  {
   "cell_type": "code",
   "execution_count": 6,
   "source": [
    "table_name = 'sqlite_sequence'\r\n",
    "query = f'SELECT * FROM {table_name}'\r\n",
    "cursor.execute(query)\r\n",
    "column_names = [desc[0] for desc in cursor.description]\r\n",
    "qry_results = pd.DataFrame(cursor.fetchall(), columns=column_names)\r\n",
    "display(qry_results.info())\r\n",
    "display(qry_results.head())\r\n"
   ],
   "outputs": [
    {
     "output_type": "stream",
     "name": "stdout",
     "text": [
      "<class 'pandas.core.frame.DataFrame'>\n",
      "Index: 0 entries\n",
      "Data columns (total 4 columns):\n",
      " #   Column     Non-Null Count  Dtype \n",
      "---  ------     --------------  ----- \n",
      " 0   img_id     0 non-null      object\n",
      " 1   cam_id     0 non-null      object\n",
      " 2   timestamp  0 non-null      object\n",
      " 3   track_id   0 non-null      object\n",
      "dtypes: object(4)\n",
      "memory usage: 0.0+ bytes\n"
     ]
    },
    {
     "output_type": "display_data",
     "data": {
      "text/plain": [
       "None"
      ]
     },
     "metadata": {}
    },
    {
     "output_type": "display_data",
     "data": {
      "text/plain": [
       "Empty DataFrame\n",
       "Columns: [img_id, cam_id, timestamp, track_id]\n",
       "Index: []"
      ],
      "text/html": [
       "<div>\n",
       "<style scoped>\n",
       "    .dataframe tbody tr th:only-of-type {\n",
       "        vertical-align: middle;\n",
       "    }\n",
       "\n",
       "    .dataframe tbody tr th {\n",
       "        vertical-align: top;\n",
       "    }\n",
       "\n",
       "    .dataframe thead th {\n",
       "        text-align: right;\n",
       "    }\n",
       "</style>\n",
       "<table border=\"1\" class=\"dataframe\">\n",
       "  <thead>\n",
       "    <tr style=\"text-align: right;\">\n",
       "      <th></th>\n",
       "      <th>img_id</th>\n",
       "      <th>cam_id</th>\n",
       "      <th>timestamp</th>\n",
       "      <th>track_id</th>\n",
       "    </tr>\n",
       "  </thead>\n",
       "  <tbody>\n",
       "  </tbody>\n",
       "</table>\n",
       "</div>"
      ]
     },
     "metadata": {}
    }
   ],
   "metadata": {}
  },
  {
   "cell_type": "code",
   "execution_count": 7,
   "source": [
    "table_name = 'VectorKB_Table'\r\n",
    "query = f'SELECT DISTINCT(cam_id) FROM {table_name}'\r\n",
    "cursor.execute(query)\r\n",
    "column_names = [desc[0] for desc in cursor.description]\r\n",
    "qry_results = pd.DataFrame(cursor.fetchall(), columns=column_names)\r\n",
    "display(qry_results.info())\r\n",
    "display(qry_results.head())\r\n"
   ],
   "outputs": [
    {
     "output_type": "stream",
     "name": "stdout",
     "text": [
      "<class 'pandas.core.frame.DataFrame'>\n",
      "RangeIndex: 3 entries, 0 to 2\n",
      "Data columns (total 1 columns):\n",
      " #   Column  Non-Null Count  Dtype\n",
      "---  ------  --------------  -----\n",
      " 0   cam_id  3 non-null      int64\n",
      "dtypes: int64(1)\n",
      "memory usage: 152.0 bytes\n"
     ]
    },
    {
     "output_type": "display_data",
     "data": {
      "text/plain": [
       "None"
      ]
     },
     "metadata": {}
    },
    {
     "output_type": "display_data",
     "data": {
      "text/plain": [
       "   cam_id\n",
       "0       2\n",
       "1       3\n",
       "2      15"
      ],
      "text/html": [
       "<div>\n",
       "<style scoped>\n",
       "    .dataframe tbody tr th:only-of-type {\n",
       "        vertical-align: middle;\n",
       "    }\n",
       "\n",
       "    .dataframe tbody tr th {\n",
       "        vertical-align: top;\n",
       "    }\n",
       "\n",
       "    .dataframe thead th {\n",
       "        text-align: right;\n",
       "    }\n",
       "</style>\n",
       "<table border=\"1\" class=\"dataframe\">\n",
       "  <thead>\n",
       "    <tr style=\"text-align: right;\">\n",
       "      <th></th>\n",
       "      <th>cam_id</th>\n",
       "    </tr>\n",
       "  </thead>\n",
       "  <tbody>\n",
       "    <tr>\n",
       "      <th>0</th>\n",
       "      <td>2</td>\n",
       "    </tr>\n",
       "    <tr>\n",
       "      <th>1</th>\n",
       "      <td>3</td>\n",
       "    </tr>\n",
       "    <tr>\n",
       "      <th>2</th>\n",
       "      <td>15</td>\n",
       "    </tr>\n",
       "  </tbody>\n",
       "</table>\n",
       "</div>"
      ]
     },
     "metadata": {}
    }
   ],
   "metadata": {}
  },
  {
   "cell_type": "code",
   "execution_count": 10,
   "source": [
    "table_name = 'VectorKB_Table'\r\n",
    "query = f'SELECT timestamp FROM {table_name}'\r\n",
    "cursor.execute(query)\r\n",
    "column_names = [desc[0] for desc in cursor.description]\r\n",
    "qry_results = pd.DataFrame(cursor.fetchall(), columns=column_names)\r\n",
    "display(qry_results.info())\r\n",
    "display(qry_results.min(), qry_results.max())\r\n"
   ],
   "outputs": [
    {
     "output_type": "stream",
     "name": "stdout",
     "text": [
      "<class 'pandas.core.frame.DataFrame'>\n",
      "RangeIndex: 434 entries, 0 to 433\n",
      "Data columns (total 1 columns):\n",
      " #   Column     Non-Null Count  Dtype         \n",
      "---  ------     --------------  -----         \n",
      " 0   timestamp  434 non-null    datetime64[ns]\n",
      "dtypes: datetime64[ns](1)\n",
      "memory usage: 3.5 KB\n"
     ]
    },
    {
     "output_type": "display_data",
     "data": {
      "text/plain": [
       "None"
      ]
     },
     "metadata": {}
    },
    {
     "output_type": "display_data",
     "data": {
      "text/plain": [
       "timestamp   2021-04-03 23:52:40.459463\n",
       "dtype: datetime64[ns]"
      ]
     },
     "metadata": {}
    },
    {
     "output_type": "display_data",
     "data": {
      "text/plain": [
       "timestamp   2021-04-04 00:05:21.347568\n",
       "dtype: datetime64[ns]"
      ]
     },
     "metadata": {}
    }
   ],
   "metadata": {}
  }
 ],
 "metadata": {
  "orig_nbformat": 4,
  "language_info": {
   "name": "python",
   "version": "3.7.9",
   "mimetype": "text/x-python",
   "codemirror_mode": {
    "name": "ipython",
    "version": 3
   },
   "pygments_lexer": "ipython3",
   "nbconvert_exporter": "python",
   "file_extension": ".py"
  },
  "kernelspec": {
   "name": "python3",
   "display_name": "Python 3.7.9 64-bit ('pose37': conda)"
  },
  "interpreter": {
   "hash": "8fcf4430fa2e5e4c1ca46c7b555eba853fd859f5fdead0da3ab15662515d7eea"
  }
 },
 "nbformat": 4,
 "nbformat_minor": 2
}