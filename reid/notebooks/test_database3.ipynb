{
 "cells": [
  {
   "cell_type": "code",
   "execution_count": 1,
   "source": [
    "import os\r\n",
    "print(os.getcwd())\r\n",
    "os.chdir('d:/Users/mokky/Documents/GitHub/NUS-ISS/IS02_PT_Capstone_Human_Re-ID')\r\n",
    "print(os.getcwd())\r\n"
   ],
   "outputs": [
    {
     "output_type": "stream",
     "name": "stdout",
     "text": [
      "d:\\Users\\mokky\\Documents\\GitHub\\NUS-ISS\\IS02_PT_Capstone_Human_Re-ID\\reid\\notebooks\n",
      "d:\\Users\\mokky\\Documents\\GitHub\\NUS-ISS\\IS02_PT_Capstone_Human_Re-ID\n"
     ]
    }
   ],
   "metadata": {}
  },
  {
   "cell_type": "code",
   "execution_count": 2,
   "source": [
    "import sqlite3\r\n",
    "from src.database.database import DbQuery\r\n",
    "import pandas as pd\r\n",
    "import matplotlib.pyplot as plt\r\n",
    "import cv2\r\n",
    "import numpy as np\r\n"
   ],
   "outputs": [],
   "metadata": {}
  },
  {
   "cell_type": "code",
   "execution_count": null,
   "source": [
    "db_path = 'reid/reid_db.db'\r\n",
    "query = \"SELECT name FROM sqlite_master WHERE type='table'\"\r\n",
    "conn = sqlite3.connect(db_path, detect_types=sqlite3.PARSE_DECLTYPES |\r\n",
    "                       sqlite3.PARSE_COLNAMES)\r\n",
    "cursor = conn.cursor()\r\n",
    "cursor.execute(query)\r\n",
    "column_names = [desc[0] for desc in cursor.description]\r\n",
    "qry_results = pd.DataFrame(cursor.fetchall(), columns=column_names)\r\n",
    "display(qry_results)\r\n"
   ],
   "outputs": [
    {
     "output_type": "stream",
     "name": "stdout",
     "text": [
      "                 name\n",
      "0     sqlite_sequence\n",
      "1      vectorkb_table\n",
      "2     inference_table\n",
      "3         human_table\n",
      "4  correctlabel_table\n"
     ]
    }
   ],
   "metadata": {}
  },
  {
   "cell_type": "code",
   "execution_count": null,
   "source": [
    "table_name = 'sqlite_sequence'\r\n",
    "query = f'SELECT * FROM {table_name}'\r\n",
    "cursor.execute(query)\r\n",
    "column_names = [desc[0] for desc in cursor.description]\r\n",
    "qry_results = pd.DataFrame(cursor.fetchall(), columns=column_names)\r\n",
    "display(qry_results.info())\r\n",
    "display(qry_results.head())\r\n"
   ],
   "outputs": [
    {
     "output_type": "stream",
     "name": "stdout",
     "text": [
      "<class 'pandas.core.frame.DataFrame'>\n",
      "RangeIndex: 1 entries, 0 to 0\n",
      "Data columns (total 2 columns):\n",
      " #   Column  Non-Null Count  Dtype \n",
      "---  ------  --------------  ----- \n",
      " 0   name    1 non-null      object\n",
      " 1   seq     1 non-null      int64 \n",
      "dtypes: int64(1), object(1)\n",
      "memory usage: 144.0+ bytes\n"
     ]
    },
    {
     "output_type": "display_data",
     "data": {
      "text/plain": [
       "None"
      ]
     },
     "metadata": {}
    },
    {
     "output_type": "display_data",
     "data": {
      "text/plain": [
       "              name    seq\n",
       "0  inference_table  26179"
      ],
      "text/html": [
       "<div>\n",
       "<style scoped>\n",
       "    .dataframe tbody tr th:only-of-type {\n",
       "        vertical-align: middle;\n",
       "    }\n",
       "\n",
       "    .dataframe tbody tr th {\n",
       "        vertical-align: top;\n",
       "    }\n",
       "\n",
       "    .dataframe thead th {\n",
       "        text-align: right;\n",
       "    }\n",
       "</style>\n",
       "<table border=\"1\" class=\"dataframe\">\n",
       "  <thead>\n",
       "    <tr style=\"text-align: right;\">\n",
       "      <th></th>\n",
       "      <th>name</th>\n",
       "      <th>seq</th>\n",
       "    </tr>\n",
       "  </thead>\n",
       "  <tbody>\n",
       "    <tr>\n",
       "      <th>0</th>\n",
       "      <td>inference_table</td>\n",
       "      <td>26179</td>\n",
       "    </tr>\n",
       "  </tbody>\n",
       "</table>\n",
       "</div>"
      ]
     },
     "metadata": {}
    }
   ],
   "metadata": {}
  },
  {
   "cell_type": "code",
   "execution_count": 20,
   "source": [
    "table_name = 'vectorkb_table'\r\n",
    "query = f'SELECT * FROM {table_name}'\r\n",
    "cursor.execute(query)\r\n",
    "column_names = [desc[0] for desc in cursor.description]\r\n",
    "qry_results = pd.DataFrame(cursor.fetchall(), columns=column_names)\r\n",
    "display(qry_results.info())\r\n",
    "display(qry_results.head())\r\n"
   ],
   "outputs": [
    {
     "output_type": "stream",
     "name": "stdout",
     "text": [
      "<class 'pandas.core.frame.DataFrame'>\n",
      "RangeIndex: 1865 entries, 0 to 1864\n",
      "Data columns (total 5 columns):\n",
      " #   Column           Non-Null Count  Dtype \n",
      "---  ------           --------------  ----- \n",
      " 0   img_id           1865 non-null   object\n",
      " 1   img_path         1865 non-null   object\n",
      " 2   img              1865 non-null   object\n",
      " 3   vector_tensor    1865 non-null   object\n",
      " 4   create_datetime  1865 non-null   object\n",
      "dtypes: object(5)\n",
      "memory usage: 73.0+ KB\n"
     ]
    },
    {
     "output_type": "display_data",
     "data": {
      "text/plain": [
       "None"
      ]
     },
     "metadata": {}
    },
    {
     "output_type": "display_data",
     "data": {
      "text/plain": [
       "                       img_id       img_path  \\\n",
       "0  16_XVKH_20210612T125929_30  TO BE REMOVED   \n",
       "1   3_3OMW_20210612T125934_30  TO BE REMOVED   \n",
       "2   3_P0ZK_20210612T125950_30  TO BE REMOVED   \n",
       "3   3_GUB6_20210612T125956_30  TO BE REMOVED   \n",
       "4   3_GUB6_20210612T130224_90  TO BE REMOVED   \n",
       "\n",
       "                                                 img  \\\n",
       "0  b'\\xff\\xd8\\xff\\xe0\\x00\\x10JFIF\\x00\\x01\\x01\\x00...   \n",
       "1  b'\\xff\\xd8\\xff\\xe0\\x00\\x10JFIF\\x00\\x01\\x01\\x00...   \n",
       "2  b'\\xff\\xd8\\xff\\xe0\\x00\\x10JFIF\\x00\\x01\\x01\\x00...   \n",
       "3  b'\\xff\\xd8\\xff\\xe0\\x00\\x10JFIF\\x00\\x01\\x01\\x00...   \n",
       "4  b'\\xff\\xd8\\xff\\xe0\\x00\\x10JFIF\\x00\\x01\\x01\\x00...   \n",
       "\n",
       "                                       vector_tensor      create_datetime  \n",
       "0  b'\\x80\\x03ctorch._utils\\n_rebuild_tensor_v2\\nq...  2021-06-15 12:21:42  \n",
       "1  b'\\x80\\x03ctorch._utils\\n_rebuild_tensor_v2\\nq...  2021-06-15 12:21:42  \n",
       "2  b'\\x80\\x03ctorch._utils\\n_rebuild_tensor_v2\\nq...  2021-06-15 12:21:43  \n",
       "3  b'\\x80\\x03ctorch._utils\\n_rebuild_tensor_v2\\nq...  2021-06-15 12:21:43  \n",
       "4  b'\\x80\\x03ctorch._utils\\n_rebuild_tensor_v2\\nq...  2021-06-15 12:21:43  "
      ],
      "text/html": [
       "<div>\n",
       "<style scoped>\n",
       "    .dataframe tbody tr th:only-of-type {\n",
       "        vertical-align: middle;\n",
       "    }\n",
       "\n",
       "    .dataframe tbody tr th {\n",
       "        vertical-align: top;\n",
       "    }\n",
       "\n",
       "    .dataframe thead th {\n",
       "        text-align: right;\n",
       "    }\n",
       "</style>\n",
       "<table border=\"1\" class=\"dataframe\">\n",
       "  <thead>\n",
       "    <tr style=\"text-align: right;\">\n",
       "      <th></th>\n",
       "      <th>img_id</th>\n",
       "      <th>img_path</th>\n",
       "      <th>img</th>\n",
       "      <th>vector_tensor</th>\n",
       "      <th>create_datetime</th>\n",
       "    </tr>\n",
       "  </thead>\n",
       "  <tbody>\n",
       "    <tr>\n",
       "      <th>0</th>\n",
       "      <td>16_XVKH_20210612T125929_30</td>\n",
       "      <td>TO BE REMOVED</td>\n",
       "      <td>b'\\xff\\xd8\\xff\\xe0\\x00\\x10JFIF\\x00\\x01\\x01\\x00...</td>\n",
       "      <td>b'\\x80\\x03ctorch._utils\\n_rebuild_tensor_v2\\nq...</td>\n",
       "      <td>2021-06-15 12:21:42</td>\n",
       "    </tr>\n",
       "    <tr>\n",
       "      <th>1</th>\n",
       "      <td>3_3OMW_20210612T125934_30</td>\n",
       "      <td>TO BE REMOVED</td>\n",
       "      <td>b'\\xff\\xd8\\xff\\xe0\\x00\\x10JFIF\\x00\\x01\\x01\\x00...</td>\n",
       "      <td>b'\\x80\\x03ctorch._utils\\n_rebuild_tensor_v2\\nq...</td>\n",
       "      <td>2021-06-15 12:21:42</td>\n",
       "    </tr>\n",
       "    <tr>\n",
       "      <th>2</th>\n",
       "      <td>3_P0ZK_20210612T125950_30</td>\n",
       "      <td>TO BE REMOVED</td>\n",
       "      <td>b'\\xff\\xd8\\xff\\xe0\\x00\\x10JFIF\\x00\\x01\\x01\\x00...</td>\n",
       "      <td>b'\\x80\\x03ctorch._utils\\n_rebuild_tensor_v2\\nq...</td>\n",
       "      <td>2021-06-15 12:21:43</td>\n",
       "    </tr>\n",
       "    <tr>\n",
       "      <th>3</th>\n",
       "      <td>3_GUB6_20210612T125956_30</td>\n",
       "      <td>TO BE REMOVED</td>\n",
       "      <td>b'\\xff\\xd8\\xff\\xe0\\x00\\x10JFIF\\x00\\x01\\x01\\x00...</td>\n",
       "      <td>b'\\x80\\x03ctorch._utils\\n_rebuild_tensor_v2\\nq...</td>\n",
       "      <td>2021-06-15 12:21:43</td>\n",
       "    </tr>\n",
       "    <tr>\n",
       "      <th>4</th>\n",
       "      <td>3_GUB6_20210612T130224_90</td>\n",
       "      <td>TO BE REMOVED</td>\n",
       "      <td>b'\\xff\\xd8\\xff\\xe0\\x00\\x10JFIF\\x00\\x01\\x01\\x00...</td>\n",
       "      <td>b'\\x80\\x03ctorch._utils\\n_rebuild_tensor_v2\\nq...</td>\n",
       "      <td>2021-06-15 12:21:43</td>\n",
       "    </tr>\n",
       "  </tbody>\n",
       "</table>\n",
       "</div>"
      ]
     },
     "metadata": {}
    }
   ],
   "metadata": {}
  },
  {
   "cell_type": "code",
   "execution_count": 15,
   "source": [
    "table_name = 'inference_table'\r\n",
    "query = f'SELECT * FROM {table_name}'\r\n",
    "cursor.execute(query)\r\n",
    "column_names = [desc[0] for desc in cursor.description]\r\n",
    "qry_results = pd.DataFrame(cursor.fetchall(), columns=column_names)\r\n",
    "display(qry_results.info())\r\n",
    "display(qry_results.head())\r\n"
   ],
   "outputs": [
    {
     "output_type": "stream",
     "name": "stdout",
     "text": [
      "<class 'pandas.core.frame.DataFrame'>\n",
      "RangeIndex: 1865 entries, 0 to 1864\n",
      "Data columns (total 13 columns):\n",
      " #   Column  Non-Null Count  Dtype  \n",
      "---  ------  --------------  -----  \n",
      " 0   0       1865 non-null   int64  \n",
      " 1   1       1865 non-null   object \n",
      " 2   2       1865 non-null   object \n",
      " 3   3       1183 non-null   object \n",
      " 4   4       1864 non-null   object \n",
      " 5   5       1864 non-null   float64\n",
      " 6   6       1183 non-null   object \n",
      " 7   7       1863 non-null   object \n",
      " 8   8       1863 non-null   float64\n",
      " 9   9       1183 non-null   object \n",
      " 10  10      1862 non-null   object \n",
      " 11  11      1862 non-null   float64\n",
      " 12  12      1865 non-null   object \n",
      "dtypes: float64(3), int64(1), object(9)\n",
      "memory usage: 189.5+ KB\n"
     ]
    },
    {
     "output_type": "display_data",
     "data": {
      "text/plain": [
       "None"
      ]
     },
     "metadata": {}
    },
    {
     "output_type": "display_data",
     "data": {
      "text/plain": [
       "      0                           1   \\\n",
       "0  24315  16_XVKH_20210612T125929_30   \n",
       "1  24316   3_3OMW_20210612T125934_30   \n",
       "2  24317   3_P0ZK_20210612T125950_30   \n",
       "3  24318   3_GUB6_20210612T125956_30   \n",
       "4  24319   3_GUB6_20210612T130224_90   \n",
       "\n",
       "                                                  2     3   \\\n",
       "0  b'\\xff\\xd8\\xff\\xe0\\x00\\x10JFIF\\x00\\x01\\x01\\x00...  None   \n",
       "1  b'\\xff\\xd8\\xff\\xe0\\x00\\x10JFIF\\x00\\x01\\x01\\x00...  None   \n",
       "2  b'\\xff\\xd8\\xff\\xe0\\x00\\x10JFIF\\x00\\x01\\x01\\x00...  None   \n",
       "3  b'\\xff\\xd8\\xff\\xe0\\x00\\x10JFIF\\x00\\x01\\x01\\x00...  None   \n",
       "4  b'\\xff\\xd8\\xff\\xe0\\x00\\x10JFIF\\x00\\x01\\x01\\x00...  None   \n",
       "\n",
       "                                                  4         5     6   \\\n",
       "0                                               None       NaN  None   \n",
       "1  b'\\xff\\xd8\\xff\\xe0\\x00\\x10JFIF\\x00\\x01\\x01\\x00...  0.211681  None   \n",
       "2  b'\\xff\\xd8\\xff\\xe0\\x00\\x10JFIF\\x00\\x01\\x01\\x00...  0.630488  None   \n",
       "3  b'\\xff\\xd8\\xff\\xe0\\x00\\x10JFIF\\x00\\x01\\x01\\x00...  0.503716  None   \n",
       "4  b'\\xff\\xd8\\xff\\xe0\\x00\\x10JFIF\\x00\\x01\\x01\\x00...  0.629281  None   \n",
       "\n",
       "                                                  7         8     9   \\\n",
       "0                                               None       NaN  None   \n",
       "1                                               None       NaN  None   \n",
       "2  b'\\xff\\xd8\\xff\\xe0\\x00\\x10JFIF\\x00\\x01\\x01\\x00...  0.322684  None   \n",
       "3  b'\\xff\\xd8\\xff\\xe0\\x00\\x10JFIF\\x00\\x01\\x01\\x00...  0.368630  None   \n",
       "4  b'\\xff\\xd8\\xff\\xe0\\x00\\x10JFIF\\x00\\x01\\x01\\x00...  0.356152  None   \n",
       "\n",
       "                                                  10        11  \\\n",
       "0                                               None       NaN   \n",
       "1                                               None       NaN   \n",
       "2                                               None       NaN   \n",
       "3  b'\\xff\\xd8\\xff\\xe0\\x00\\x10JFIF\\x00\\x01\\x01\\x00...  0.215568   \n",
       "4  b'\\xff\\xd8\\xff\\xe0\\x00\\x10JFIF\\x00\\x01\\x01\\x00...  0.324396   \n",
       "\n",
       "                    12  \n",
       "0  2021-06-15 12:21:42  \n",
       "1  2021-06-15 12:21:42  \n",
       "2  2021-06-15 12:21:43  \n",
       "3  2021-06-15 12:21:43  \n",
       "4  2021-06-15 12:21:43  "
      ],
      "text/html": [
       "<div>\n",
       "<style scoped>\n",
       "    .dataframe tbody tr th:only-of-type {\n",
       "        vertical-align: middle;\n",
       "    }\n",
       "\n",
       "    .dataframe tbody tr th {\n",
       "        vertical-align: top;\n",
       "    }\n",
       "\n",
       "    .dataframe thead th {\n",
       "        text-align: right;\n",
       "    }\n",
       "</style>\n",
       "<table border=\"1\" class=\"dataframe\">\n",
       "  <thead>\n",
       "    <tr style=\"text-align: right;\">\n",
       "      <th></th>\n",
       "      <th>0</th>\n",
       "      <th>1</th>\n",
       "      <th>2</th>\n",
       "      <th>3</th>\n",
       "      <th>4</th>\n",
       "      <th>5</th>\n",
       "      <th>6</th>\n",
       "      <th>7</th>\n",
       "      <th>8</th>\n",
       "      <th>9</th>\n",
       "      <th>10</th>\n",
       "      <th>11</th>\n",
       "      <th>12</th>\n",
       "    </tr>\n",
       "  </thead>\n",
       "  <tbody>\n",
       "    <tr>\n",
       "      <th>0</th>\n",
       "      <td>24315</td>\n",
       "      <td>16_XVKH_20210612T125929_30</td>\n",
       "      <td>b'\\xff\\xd8\\xff\\xe0\\x00\\x10JFIF\\x00\\x01\\x01\\x00...</td>\n",
       "      <td>None</td>\n",
       "      <td>None</td>\n",
       "      <td>NaN</td>\n",
       "      <td>None</td>\n",
       "      <td>None</td>\n",
       "      <td>NaN</td>\n",
       "      <td>None</td>\n",
       "      <td>None</td>\n",
       "      <td>NaN</td>\n",
       "      <td>2021-06-15 12:21:42</td>\n",
       "    </tr>\n",
       "    <tr>\n",
       "      <th>1</th>\n",
       "      <td>24316</td>\n",
       "      <td>3_3OMW_20210612T125934_30</td>\n",
       "      <td>b'\\xff\\xd8\\xff\\xe0\\x00\\x10JFIF\\x00\\x01\\x01\\x00...</td>\n",
       "      <td>None</td>\n",
       "      <td>b'\\xff\\xd8\\xff\\xe0\\x00\\x10JFIF\\x00\\x01\\x01\\x00...</td>\n",
       "      <td>0.211681</td>\n",
       "      <td>None</td>\n",
       "      <td>None</td>\n",
       "      <td>NaN</td>\n",
       "      <td>None</td>\n",
       "      <td>None</td>\n",
       "      <td>NaN</td>\n",
       "      <td>2021-06-15 12:21:42</td>\n",
       "    </tr>\n",
       "    <tr>\n",
       "      <th>2</th>\n",
       "      <td>24317</td>\n",
       "      <td>3_P0ZK_20210612T125950_30</td>\n",
       "      <td>b'\\xff\\xd8\\xff\\xe0\\x00\\x10JFIF\\x00\\x01\\x01\\x00...</td>\n",
       "      <td>None</td>\n",
       "      <td>b'\\xff\\xd8\\xff\\xe0\\x00\\x10JFIF\\x00\\x01\\x01\\x00...</td>\n",
       "      <td>0.630488</td>\n",
       "      <td>None</td>\n",
       "      <td>b'\\xff\\xd8\\xff\\xe0\\x00\\x10JFIF\\x00\\x01\\x01\\x00...</td>\n",
       "      <td>0.322684</td>\n",
       "      <td>None</td>\n",
       "      <td>None</td>\n",
       "      <td>NaN</td>\n",
       "      <td>2021-06-15 12:21:43</td>\n",
       "    </tr>\n",
       "    <tr>\n",
       "      <th>3</th>\n",
       "      <td>24318</td>\n",
       "      <td>3_GUB6_20210612T125956_30</td>\n",
       "      <td>b'\\xff\\xd8\\xff\\xe0\\x00\\x10JFIF\\x00\\x01\\x01\\x00...</td>\n",
       "      <td>None</td>\n",
       "      <td>b'\\xff\\xd8\\xff\\xe0\\x00\\x10JFIF\\x00\\x01\\x01\\x00...</td>\n",
       "      <td>0.503716</td>\n",
       "      <td>None</td>\n",
       "      <td>b'\\xff\\xd8\\xff\\xe0\\x00\\x10JFIF\\x00\\x01\\x01\\x00...</td>\n",
       "      <td>0.368630</td>\n",
       "      <td>None</td>\n",
       "      <td>b'\\xff\\xd8\\xff\\xe0\\x00\\x10JFIF\\x00\\x01\\x01\\x00...</td>\n",
       "      <td>0.215568</td>\n",
       "      <td>2021-06-15 12:21:43</td>\n",
       "    </tr>\n",
       "    <tr>\n",
       "      <th>4</th>\n",
       "      <td>24319</td>\n",
       "      <td>3_GUB6_20210612T130224_90</td>\n",
       "      <td>b'\\xff\\xd8\\xff\\xe0\\x00\\x10JFIF\\x00\\x01\\x01\\x00...</td>\n",
       "      <td>None</td>\n",
       "      <td>b'\\xff\\xd8\\xff\\xe0\\x00\\x10JFIF\\x00\\x01\\x01\\x00...</td>\n",
       "      <td>0.629281</td>\n",
       "      <td>None</td>\n",
       "      <td>b'\\xff\\xd8\\xff\\xe0\\x00\\x10JFIF\\x00\\x01\\x01\\x00...</td>\n",
       "      <td>0.356152</td>\n",
       "      <td>None</td>\n",
       "      <td>b'\\xff\\xd8\\xff\\xe0\\x00\\x10JFIF\\x00\\x01\\x01\\x00...</td>\n",
       "      <td>0.324396</td>\n",
       "      <td>2021-06-15 12:21:43</td>\n",
       "    </tr>\n",
       "  </tbody>\n",
       "</table>\n",
       "</div>"
      ]
     },
     "metadata": {}
    }
   ],
   "metadata": {}
  },
  {
   "cell_type": "code",
   "execution_count": 21,
   "source": [
    "table_name = 'human_table'\r\n",
    "query = f'SELECT * FROM {table_name}'\r\n",
    "cursor.execute(query)\r\n",
    "column_names = [desc[0] for desc in cursor.description]\r\n",
    "qry_results = pd.DataFrame(cursor.fetchall(), columns=column_names)\r\n",
    "display(qry_results.info())\r\n",
    "display(qry_results.head())\r\n"
   ],
   "outputs": [
    {
     "output_type": "stream",
     "name": "stdout",
     "text": [
      "<class 'pandas.core.frame.DataFrame'>\n",
      "RangeIndex: 1865 entries, 0 to 1864\n",
      "Data columns (total 4 columns):\n",
      " #   Column              Non-Null Count  Dtype \n",
      "---  ------              --------------  ----- \n",
      " 0   img_id              1865 non-null   object\n",
      " 1   human_id            1865 non-null   object\n",
      " 2   inference_datetime  1865 non-null   object\n",
      " 3   type                1865 non-null   object\n",
      "dtypes: object(4)\n",
      "memory usage: 58.4+ KB\n"
     ]
    },
    {
     "output_type": "display_data",
     "data": {
      "text/plain": [
       "None"
      ]
     },
     "metadata": {}
    },
    {
     "output_type": "display_data",
     "data": {
      "text/plain": [
       "                       img_id human_id   inference_datetime type\n",
       "0  16_XVKH_20210612T125929_30        1  2021-06-15 12:21:42  New\n",
       "1   3_3OMW_20210612T125934_30        2  2021-06-15 12:21:42  New\n",
       "2   3_P0ZK_20210612T125950_30        3  2021-06-15 12:21:43  New\n",
       "3   3_GUB6_20210612T125956_30        4  2021-06-15 12:21:43  New\n",
       "4   3_GUB6_20210612T130224_90        5  2021-06-15 12:21:43  New"
      ],
      "text/html": [
       "<div>\n",
       "<style scoped>\n",
       "    .dataframe tbody tr th:only-of-type {\n",
       "        vertical-align: middle;\n",
       "    }\n",
       "\n",
       "    .dataframe tbody tr th {\n",
       "        vertical-align: top;\n",
       "    }\n",
       "\n",
       "    .dataframe thead th {\n",
       "        text-align: right;\n",
       "    }\n",
       "</style>\n",
       "<table border=\"1\" class=\"dataframe\">\n",
       "  <thead>\n",
       "    <tr style=\"text-align: right;\">\n",
       "      <th></th>\n",
       "      <th>img_id</th>\n",
       "      <th>human_id</th>\n",
       "      <th>inference_datetime</th>\n",
       "      <th>type</th>\n",
       "    </tr>\n",
       "  </thead>\n",
       "  <tbody>\n",
       "    <tr>\n",
       "      <th>0</th>\n",
       "      <td>16_XVKH_20210612T125929_30</td>\n",
       "      <td>1</td>\n",
       "      <td>2021-06-15 12:21:42</td>\n",
       "      <td>New</td>\n",
       "    </tr>\n",
       "    <tr>\n",
       "      <th>1</th>\n",
       "      <td>3_3OMW_20210612T125934_30</td>\n",
       "      <td>2</td>\n",
       "      <td>2021-06-15 12:21:42</td>\n",
       "      <td>New</td>\n",
       "    </tr>\n",
       "    <tr>\n",
       "      <th>2</th>\n",
       "      <td>3_P0ZK_20210612T125950_30</td>\n",
       "      <td>3</td>\n",
       "      <td>2021-06-15 12:21:43</td>\n",
       "      <td>New</td>\n",
       "    </tr>\n",
       "    <tr>\n",
       "      <th>3</th>\n",
       "      <td>3_GUB6_20210612T125956_30</td>\n",
       "      <td>4</td>\n",
       "      <td>2021-06-15 12:21:43</td>\n",
       "      <td>New</td>\n",
       "    </tr>\n",
       "    <tr>\n",
       "      <th>4</th>\n",
       "      <td>3_GUB6_20210612T130224_90</td>\n",
       "      <td>5</td>\n",
       "      <td>2021-06-15 12:21:43</td>\n",
       "      <td>New</td>\n",
       "    </tr>\n",
       "  </tbody>\n",
       "</table>\n",
       "</div>"
      ]
     },
     "metadata": {}
    }
   ],
   "metadata": {}
  },
  {
   "cell_type": "code",
   "execution_count": 22,
   "source": [
    "table_name = 'correctlabel_table'\r\n",
    "query = f'SELECT * FROM {table_name}'\r\n",
    "cursor.execute(query)\r\n",
    "column_names = [desc[0] for desc in cursor.description]\r\n",
    "qry_results = pd.DataFrame(cursor.fetchall(), columns=column_names)\r\n",
    "display(qry_results.info())\r\n",
    "display(qry_results.head())\r\n"
   ],
   "outputs": [
    {
     "output_type": "stream",
     "name": "stdout",
     "text": [
      "<class 'pandas.core.frame.DataFrame'>\n",
      "RangeIndex: 1026 entries, 0 to 1025\n",
      "Data columns (total 3 columns):\n",
      " #   Column      Non-Null Count  Dtype \n",
      "---  ------      --------------  ----- \n",
      " 0   img_id      1026 non-null   object\n",
      " 1   is_correct  1026 non-null   int64 \n",
      " 2   human_id    1026 non-null   object\n",
      "dtypes: int64(1), object(2)\n",
      "memory usage: 24.2+ KB\n"
     ]
    },
    {
     "output_type": "display_data",
     "data": {
      "text/plain": [
       "None"
      ]
     },
     "metadata": {}
    },
    {
     "output_type": "display_data",
     "data": {
      "text/plain": [
       "                           img_id  is_correct human_id\n",
       "0   11_2N45_20210613T125106_52500           1      255\n",
       "1  11_3C3J_20210614T115035_109950           0      311\n",
       "2   11_952R_20210613T122444_51780           1      255\n",
       "3   11_BB5N_20210613T164609_61110           1      264\n",
       "4   11_BB5N_20210613T164708_61140           1      264"
      ],
      "text/html": [
       "<div>\n",
       "<style scoped>\n",
       "    .dataframe tbody tr th:only-of-type {\n",
       "        vertical-align: middle;\n",
       "    }\n",
       "\n",
       "    .dataframe tbody tr th {\n",
       "        vertical-align: top;\n",
       "    }\n",
       "\n",
       "    .dataframe thead th {\n",
       "        text-align: right;\n",
       "    }\n",
       "</style>\n",
       "<table border=\"1\" class=\"dataframe\">\n",
       "  <thead>\n",
       "    <tr style=\"text-align: right;\">\n",
       "      <th></th>\n",
       "      <th>img_id</th>\n",
       "      <th>is_correct</th>\n",
       "      <th>human_id</th>\n",
       "    </tr>\n",
       "  </thead>\n",
       "  <tbody>\n",
       "    <tr>\n",
       "      <th>0</th>\n",
       "      <td>11_2N45_20210613T125106_52500</td>\n",
       "      <td>1</td>\n",
       "      <td>255</td>\n",
       "    </tr>\n",
       "    <tr>\n",
       "      <th>1</th>\n",
       "      <td>11_3C3J_20210614T115035_109950</td>\n",
       "      <td>0</td>\n",
       "      <td>311</td>\n",
       "    </tr>\n",
       "    <tr>\n",
       "      <th>2</th>\n",
       "      <td>11_952R_20210613T122444_51780</td>\n",
       "      <td>1</td>\n",
       "      <td>255</td>\n",
       "    </tr>\n",
       "    <tr>\n",
       "      <th>3</th>\n",
       "      <td>11_BB5N_20210613T164609_61110</td>\n",
       "      <td>1</td>\n",
       "      <td>264</td>\n",
       "    </tr>\n",
       "    <tr>\n",
       "      <th>4</th>\n",
       "      <td>11_BB5N_20210613T164708_61140</td>\n",
       "      <td>1</td>\n",
       "      <td>264</td>\n",
       "    </tr>\n",
       "  </tbody>\n",
       "</table>\n",
       "</div>"
      ]
     },
     "metadata": {}
    }
   ],
   "metadata": {}
  },
  {
   "cell_type": "code",
   "execution_count": 23,
   "source": [
    "table_name = 'correctlabel_table'\r\n",
    "query = f'SELECT m.img_id AS img_id, m.is_correct AS is_correct, h.human_id AS human_id FROM {table_name} AS m'\r\n",
    "query += \" INNER JOIN human_table AS h ON h.img_id=m.img_id\"\r\n",
    "cursor.execute(query)\r\n",
    "column_names = [desc[0] for desc in cursor.description]\r\n",
    "qry_results = pd.DataFrame(cursor.fetchall(), columns=column_names)\r\n",
    "display(qry_results.head())\r\n",
    "display(qry_results.nunique())\r\n",
    "display(qry_results.human_id.unique())\r\n"
   ],
   "outputs": [
    {
     "output_type": "display_data",
     "data": {
      "text/plain": [
       "                           img_id  is_correct human_id\n",
       "0   11_2N45_20210613T125106_52500           1      255\n",
       "1  11_3C3J_20210614T115035_109950           0      311\n",
       "2   11_952R_20210613T122444_51780           1      255\n",
       "3   11_BB5N_20210613T164609_61110           1      264\n",
       "4   11_BB5N_20210613T164708_61140           1      264"
      ],
      "text/html": [
       "<div>\n",
       "<style scoped>\n",
       "    .dataframe tbody tr th:only-of-type {\n",
       "        vertical-align: middle;\n",
       "    }\n",
       "\n",
       "    .dataframe tbody tr th {\n",
       "        vertical-align: top;\n",
       "    }\n",
       "\n",
       "    .dataframe thead th {\n",
       "        text-align: right;\n",
       "    }\n",
       "</style>\n",
       "<table border=\"1\" class=\"dataframe\">\n",
       "  <thead>\n",
       "    <tr style=\"text-align: right;\">\n",
       "      <th></th>\n",
       "      <th>img_id</th>\n",
       "      <th>is_correct</th>\n",
       "      <th>human_id</th>\n",
       "    </tr>\n",
       "  </thead>\n",
       "  <tbody>\n",
       "    <tr>\n",
       "      <th>0</th>\n",
       "      <td>11_2N45_20210613T125106_52500</td>\n",
       "      <td>1</td>\n",
       "      <td>255</td>\n",
       "    </tr>\n",
       "    <tr>\n",
       "      <th>1</th>\n",
       "      <td>11_3C3J_20210614T115035_109950</td>\n",
       "      <td>0</td>\n",
       "      <td>311</td>\n",
       "    </tr>\n",
       "    <tr>\n",
       "      <th>2</th>\n",
       "      <td>11_952R_20210613T122444_51780</td>\n",
       "      <td>1</td>\n",
       "      <td>255</td>\n",
       "    </tr>\n",
       "    <tr>\n",
       "      <th>3</th>\n",
       "      <td>11_BB5N_20210613T164609_61110</td>\n",
       "      <td>1</td>\n",
       "      <td>264</td>\n",
       "    </tr>\n",
       "    <tr>\n",
       "      <th>4</th>\n",
       "      <td>11_BB5N_20210613T164708_61140</td>\n",
       "      <td>1</td>\n",
       "      <td>264</td>\n",
       "    </tr>\n",
       "  </tbody>\n",
       "</table>\n",
       "</div>"
      ]
     },
     "metadata": {}
    },
    {
     "output_type": "display_data",
     "data": {
      "text/plain": [
       "img_id        1026\n",
       "is_correct       2\n",
       "human_id       231\n",
       "dtype: int64"
      ]
     },
     "metadata": {}
    },
    {
     "output_type": "display_data",
     "data": {
      "text/plain": [
       "array(['255', '311', '264', '72', '78', '260', '324', '37', '38', '157',\n",
       "       '160', '158', '334', '21', '19', '42', '43', '44', '47', '48',\n",
       "       '20', '143', '144', '146', '284', '285', '87', '89', '335', '34',\n",
       "       '114', '164', '9', '163', '15', '17', '10', '183', '282', '340',\n",
       "       '33', '140', '207', '31', '233', '69', '4', '76', '2', '116',\n",
       "       '167', '230', '5', '133', '306', '259', '139', '212', '128', '176',\n",
       "       '94', '326', '327', '316', '168', '169', '124', '178', '225',\n",
       "       '208', '152', '206', '123', '120', '129', '137', '203', '170',\n",
       "       '119', '274', '277', '290', '303', '269', '217', '216', '93',\n",
       "       '301', '23', '39', '300', '195', '8', '7', '98', '229', '232',\n",
       "       '28', '196', '220', '313', '59', '60', '223', '247', '40', '150',\n",
       "       '185', '100', '36', '112', '172', '245', '211', '134', '138',\n",
       "       '320', '617', '547', '555', '508', '546', '507', '519', '523',\n",
       "       '583', '569', '526', '594', '597', '521', '595', '568', '567',\n",
       "       '625', '596', '551', '643', '653', '494', '497', '631', '633',\n",
       "       '608', '645', '591', '615', '592', '634', '675', '627', '563',\n",
       "       '632', '486', '613', '506', '502', '611', '552', '557', '670',\n",
       "       '671', '672', '493', '496', '488', '649', '624', '663', '619',\n",
       "       '639', '646', '621', '612', '562', '605', '513', '530', '345',\n",
       "       '407', '405', '372', '389', '392', '402', '347', '348', '386',\n",
       "       '357', '373', '375', '379', '427', '374', '477', '468', '470',\n",
       "       '344', '391', '351', '449', '358', '455', '350', '451', '416',\n",
       "       '445', '356', '346', '443', '462', '466', '452', '456', '458',\n",
       "       '465', '442', '447', '459', '403', '404', '359', '444', '457',\n",
       "       '436', '362', '435', '343', '437', '469', '453'], dtype=object)"
      ]
     },
     "metadata": {}
    }
   ],
   "metadata": {}
  },
  {
   "cell_type": "code",
   "execution_count": 37,
   "source": [
    "db_path = 'database/reid_db_labelling (341-479)DC.db'\r\n",
    "query = \"SELECT name FROM sqlite_master WHERE type='table'\"\r\n",
    "conn_dc = sqlite3.connect(db_path, detect_types=sqlite3.PARSE_DECLTYPES |\r\n",
    "                       sqlite3.PARSE_COLNAMES)\r\n",
    "cursor_dc = conn_dc.cursor()\r\n",
    "cursor_dc.execute(query)\r\n",
    "column_names = [desc[0] for desc in cursor_dc.description]\r\n",
    "qry_results_dc = pd.DataFrame(cursor_dc.fetchall(), columns=column_names)\r\n",
    "print(qry_results_dc)\r\n",
    "print(column_names)\r\n"
   ],
   "outputs": [
    {
     "output_type": "stream",
     "name": "stdout",
     "text": [
      "                 name\n",
      "0     sqlite_sequence\n",
      "1      vectorkb_table\n",
      "2     inference_table\n",
      "3         human_table\n",
      "4  correctlabel_table\n",
      "['name']\n"
     ]
    }
   ],
   "metadata": {}
  },
  {
   "cell_type": "code",
   "execution_count": 38,
   "source": [
    "table_name = 'correctlabel_table'\r\n",
    "query = f'SELECT m.img_id AS img_id, m.is_correct AS is_correct, h.human_id AS human_id FROM {table_name} AS m'\r\n",
    "query += \" INNER JOIN human_table AS h ON h.img_id=m.img_id\"\r\n",
    "cursor_dc.execute(query)\r\n",
    "column_names = [desc[0] for desc in cursor_dc.description]\r\n",
    "print(column_names)\r\n",
    "qry_results_dc = pd.DataFrame(cursor_dc.fetchall(), columns=column_names)\r\n",
    "display(qry_results_dc.head())\r\n",
    "display(qry_results_dc.nunique())\r\n",
    "display(qry_results_dc.human_id.unique())\r\n"
   ],
   "outputs": [
    {
     "output_type": "stream",
     "name": "stdout",
     "text": [
      "['img_id', 'is_correct', 'human_id']\n"
     ]
    },
    {
     "output_type": "display_data",
     "data": {
      "text/plain": [
       "                          img_id  is_correct human_id\n",
       "0  11_2W41_20210614T060558_94380           1      345\n",
       "1  11_2W41_20210614T060638_94410           1      345\n",
       "2  11_2W41_20210614T060718_94440           1      345\n",
       "3  11_2W41_20210614T060757_94470           1      345\n",
       "4  11_CKF6_20210614T045857_91170           1      407"
      ],
      "text/html": [
       "<div>\n",
       "<style scoped>\n",
       "    .dataframe tbody tr th:only-of-type {\n",
       "        vertical-align: middle;\n",
       "    }\n",
       "\n",
       "    .dataframe tbody tr th {\n",
       "        vertical-align: top;\n",
       "    }\n",
       "\n",
       "    .dataframe thead th {\n",
       "        text-align: right;\n",
       "    }\n",
       "</style>\n",
       "<table border=\"1\" class=\"dataframe\">\n",
       "  <thead>\n",
       "    <tr style=\"text-align: right;\">\n",
       "      <th></th>\n",
       "      <th>img_id</th>\n",
       "      <th>is_correct</th>\n",
       "      <th>human_id</th>\n",
       "    </tr>\n",
       "  </thead>\n",
       "  <tbody>\n",
       "    <tr>\n",
       "      <th>0</th>\n",
       "      <td>11_2W41_20210614T060558_94380</td>\n",
       "      <td>1</td>\n",
       "      <td>345</td>\n",
       "    </tr>\n",
       "    <tr>\n",
       "      <th>1</th>\n",
       "      <td>11_2W41_20210614T060638_94410</td>\n",
       "      <td>1</td>\n",
       "      <td>345</td>\n",
       "    </tr>\n",
       "    <tr>\n",
       "      <th>2</th>\n",
       "      <td>11_2W41_20210614T060718_94440</td>\n",
       "      <td>1</td>\n",
       "      <td>345</td>\n",
       "    </tr>\n",
       "    <tr>\n",
       "      <th>3</th>\n",
       "      <td>11_2W41_20210614T060757_94470</td>\n",
       "      <td>1</td>\n",
       "      <td>345</td>\n",
       "    </tr>\n",
       "    <tr>\n",
       "      <th>4</th>\n",
       "      <td>11_CKF6_20210614T045857_91170</td>\n",
       "      <td>1</td>\n",
       "      <td>407</td>\n",
       "    </tr>\n",
       "  </tbody>\n",
       "</table>\n",
       "</div>"
      ]
     },
     "metadata": {}
    },
    {
     "output_type": "display_data",
     "data": {
      "text/plain": [
       "img_id        166\n",
       "is_correct      2\n",
       "human_id       53\n",
       "dtype: int64"
      ]
     },
     "metadata": {}
    },
    {
     "output_type": "display_data",
     "data": {
      "text/plain": [
       "array(['345', '407', '405', '372', '389', '392', '402', '347', '348',\n",
       "       '386', '357', '373', '375', '379', '427', '374', '477', '468',\n",
       "       '470', '344', '391', '351', '449', '358', '455', '350', '451',\n",
       "       '416', '445', '356', '346', '443', '462', '466', '452', '456',\n",
       "       '458', '465', '442', '447', '459', '403', '404', '359', '444',\n",
       "       '457', '436', '362', '435', '343', '437', '469', '453'],\n",
       "      dtype=object)"
      ]
     },
     "metadata": {}
    }
   ],
   "metadata": {}
  },
  {
   "cell_type": "code",
   "execution_count": 39,
   "source": [
    "#check if duplicate\r\n",
    "display(qry_results_ys[qry_results_ys.img_id.isin(qry_results_dc.human_id.unique())])\r\n"
   ],
   "outputs": [
    {
     "output_type": "display_data",
     "data": {
      "text/plain": [
       "Empty DataFrame\n",
       "Columns: [img_id, is_correct, human_id]\n",
       "Index: []"
      ],
      "text/html": [
       "<div>\n",
       "<style scoped>\n",
       "    .dataframe tbody tr th:only-of-type {\n",
       "        vertical-align: middle;\n",
       "    }\n",
       "\n",
       "    .dataframe tbody tr th {\n",
       "        vertical-align: top;\n",
       "    }\n",
       "\n",
       "    .dataframe thead th {\n",
       "        text-align: right;\n",
       "    }\n",
       "</style>\n",
       "<table border=\"1\" class=\"dataframe\">\n",
       "  <thead>\n",
       "    <tr style=\"text-align: right;\">\n",
       "      <th></th>\n",
       "      <th>img_id</th>\n",
       "      <th>is_correct</th>\n",
       "      <th>human_id</th>\n",
       "    </tr>\n",
       "  </thead>\n",
       "  <tbody>\n",
       "  </tbody>\n",
       "</table>\n",
       "</div>"
      ]
     },
     "metadata": {}
    }
   ],
   "metadata": {}
  },
  {
   "cell_type": "code",
   "execution_count": 15,
   "source": [
    "listMerge = [[\"347\", \"348\"]]\r\n",
    "df = pd.DataFrame({'merges': [','.join(item) for item in listMerge]})\r\n",
    "print(df.info())\r\n",
    "print(df)\r\n",
    "with sqlite3.connect('database/reid_db_merging.db', detect_types=sqlite3.PARSE_DECLTYPES |\r\n",
    "                     sqlite3.PARSE_COLNAMES) as conn:\r\n",
    "    df.to_sql(\"merge_table\", con=conn,\r\n",
    "              index=False, if_exists='replace')\r\n"
   ],
   "outputs": [
    {
     "output_type": "stream",
     "name": "stdout",
     "text": [
      "<class 'pandas.core.frame.DataFrame'>\n",
      "RangeIndex: 1 entries, 0 to 0\n",
      "Data columns (total 1 columns):\n",
      " #   Column  Non-Null Count  Dtype \n",
      "---  ------  --------------  ----- \n",
      " 0   merges  1 non-null      object\n",
      "dtypes: object(1)\n",
      "memory usage: 136.0+ bytes\n",
      "None\n",
      "    merges\n",
      "0  347,348\n"
     ]
    }
   ],
   "metadata": {}
  },
  {
   "cell_type": "code",
   "execution_count": 17,
   "source": [
    "\r\n",
    "listMerge = [[\"347\", \"348\"]]\r\n",
    "df = pd.DataFrame({'merges': [','.join(item) for item in listMerge]})\r\n",
    "print([row[0].split(',') for _, row in df.iterrows()])\r\n"
   ],
   "outputs": [
    {
     "output_type": "stream",
     "name": "stdout",
     "text": [
      "[['347', '348']]\n"
     ]
    }
   ],
   "metadata": {}
  },
  {
   "cell_type": "code",
   "execution_count": 25,
   "source": [
    "db_path = 'database/reid_db_merging.db'\r\n",
    "query = \"SELECT name FROM sqlite_master WHERE type='table'\"\r\n",
    "conn = sqlite3.connect(db_path, detect_types=sqlite3.PARSE_DECLTYPES |\r\n",
    "                          sqlite3.PARSE_COLNAMES)\r\n",
    "cursor = conn.cursor()\r\n",
    "cursor.execute(query)\r\n",
    "column_names = [desc[0] for desc in cursor.description]\r\n",
    "qry_results = pd.DataFrame(cursor.fetchall(), columns=column_names)\r\n",
    "print(qry_results)\r\n",
    "print(column_names)\r\n"
   ],
   "outputs": [
    {
     "output_type": "stream",
     "name": "stdout",
     "text": [
      "Empty DataFrame\n",
      "Columns: [name]\n",
      "Index: []\n",
      "['name']\n"
     ]
    }
   ],
   "metadata": {}
  },
  {
   "cell_type": "code",
   "execution_count": 26,
   "source": [
    "table_name = 'merge_table'\r\n",
    "query = f'SELECT * FROM {table_name}'\r\n",
    "cursor.execute(query)\r\n",
    "column_names = [desc[0] for desc in cursor.description]\r\n",
    "print(column_names)\r\n",
    "qry_results = pd.DataFrame(cursor.fetchall(), columns=column_names)\r\n",
    "display(qry_results.head())\r\n"
   ],
   "outputs": [
    {
     "output_type": "error",
     "ename": "OperationalError",
     "evalue": "no such table: merge_table",
     "traceback": [
      "\u001b[1;31m---------------------------------------------------------------------------\u001b[0m",
      "\u001b[1;31mOperationalError\u001b[0m                          Traceback (most recent call last)",
      "\u001b[1;32m<ipython-input-26-26e3873091f9>\u001b[0m in \u001b[0;36m<module>\u001b[1;34m\u001b[0m\n\u001b[0;32m      1\u001b[0m \u001b[0mtable_name\u001b[0m \u001b[1;33m=\u001b[0m \u001b[1;34m'merge_table'\u001b[0m\u001b[1;33m\u001b[0m\u001b[1;33m\u001b[0m\u001b[0m\n\u001b[0;32m      2\u001b[0m \u001b[0mquery\u001b[0m \u001b[1;33m=\u001b[0m \u001b[1;34mf'SELECT * FROM {table_name}'\u001b[0m\u001b[1;33m\u001b[0m\u001b[1;33m\u001b[0m\u001b[0m\n\u001b[1;32m----> 3\u001b[1;33m \u001b[0mcursor\u001b[0m\u001b[1;33m.\u001b[0m\u001b[0mexecute\u001b[0m\u001b[1;33m(\u001b[0m\u001b[0mquery\u001b[0m\u001b[1;33m)\u001b[0m\u001b[1;33m\u001b[0m\u001b[1;33m\u001b[0m\u001b[0m\n\u001b[0m\u001b[0;32m      4\u001b[0m \u001b[0mcolumn_names\u001b[0m \u001b[1;33m=\u001b[0m \u001b[1;33m[\u001b[0m\u001b[0mdesc\u001b[0m\u001b[1;33m[\u001b[0m\u001b[1;36m0\u001b[0m\u001b[1;33m]\u001b[0m \u001b[1;32mfor\u001b[0m \u001b[0mdesc\u001b[0m \u001b[1;32min\u001b[0m \u001b[0mcursor\u001b[0m\u001b[1;33m.\u001b[0m\u001b[0mdescription\u001b[0m\u001b[1;33m]\u001b[0m\u001b[1;33m\u001b[0m\u001b[1;33m\u001b[0m\u001b[0m\n\u001b[0;32m      5\u001b[0m \u001b[0mprint\u001b[0m\u001b[1;33m(\u001b[0m\u001b[0mcolumn_names\u001b[0m\u001b[1;33m)\u001b[0m\u001b[1;33m\u001b[0m\u001b[1;33m\u001b[0m\u001b[0m\n",
      "\u001b[1;31mOperationalError\u001b[0m: no such table: merge_table"
     ]
    }
   ],
   "metadata": {}
  }
 ],
 "metadata": {
  "interpreter": {
   "hash": "8fcf4430fa2e5e4c1ca46c7b555eba853fd859f5fdead0da3ab15662515d7eea"
  },
  "kernelspec": {
   "name": "python3",
   "display_name": "Python 3.7.9 64-bit ('pose37': conda)"
  },
  "language_info": {
   "codemirror_mode": {
    "name": "ipython",
    "version": 3
   },
   "file_extension": ".py",
   "mimetype": "text/x-python",
   "name": "python",
   "nbconvert_exporter": "python",
   "pygments_lexer": "ipython3",
   "version": "3.7.9"
  },
  "orig_nbformat": 4
 },
 "nbformat": 4,
 "nbformat_minor": 2
}