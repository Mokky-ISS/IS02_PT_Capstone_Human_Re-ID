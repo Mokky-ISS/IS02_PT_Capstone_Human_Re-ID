{
 "metadata": {
  "language_info": {
   "codemirror_mode": {
    "name": "ipython",
    "version": 3
   },
   "file_extension": ".py",
   "mimetype": "text/x-python",
   "name": "python",
   "nbconvert_exporter": "python",
   "pygments_lexer": "ipython3",
   "version": "3.6.13"
  },
  "orig_nbformat": 2,
  "kernelspec": {
   "name": "python3",
   "display_name": "Python 3",
   "language": "python"
  }
 },
 "nbformat": 4,
 "nbformat_minor": 2,
 "cells": [
  {
   "cell_type": "code",
   "execution_count": 4,
   "metadata": {},
   "outputs": [
    {
     "output_type": "stream",
     "name": "stdout",
     "text": [
      "Loading pretrained ImageNet model......\n",
      "Loading pretrained model from ../resource/resnet50_200.pth\n",
      "Model loaded with weight from ../resource/resnet50_200.pth\n",
      "Ready to Eval\n",
      "Loading from DB...\n",
      "Data loaded. You can start infer an image using to_gallery_feat --> query_feat --> infer\n"
     ]
    }
   ],
   "source": [
    "# import dependencies\n",
    "\n",
    "from inference import reid_inference\n",
    "from utils.metrics import cosine_similarity, euclidean_distance\n",
    "from utils.to_sqlite import insert_vector_db, insert_human_db, insert_infer_db, load_gallery_from_db, convertToBinaryData, load_human_db\n",
    "\n",
    "#init class\n",
    "reid = reid_inference()"
   ]
  },
  {
   "cell_type": "code",
   "execution_count": 2,
   "metadata": {},
   "outputs": [],
   "source": [
    "query_list = os.listdir(reid.Cfg.QUERY_DIR)\n",
    "query_list = [reid.Cfg.QUERY_DIR + '/' + img for img in query_list]"
   ]
  },
  {
   "cell_type": "code",
   "execution_count": 5,
   "metadata": {
    "tags": []
   },
   "outputs": [
    {
     "output_type": "stream",
     "name": "stdout",
     "text": [
      "Match found! Identity is 1501\n"
     ]
    }
   ],
   "source": [
    "img_path = query_list[-1]\n",
    "reid.to_gallery_feat(img_path)\n",
    "query_feat = reid.to_query_feat(img_path)\n",
    "reid.infer(query_feat, img_path)"
   ]
  },
  {
   "cell_type": "code",
   "execution_count": 6,
   "metadata": {},
   "outputs": [
    {
     "output_type": "execute_result",
     "data": {
      "text/plain": [
       "'../resource/market1501/query/1501_c6s4_001877_00.jpg'"
      ]
     },
     "metadata": {},
     "execution_count": 6
    }
   ],
   "source": [
    "img_path"
   ]
  },
  {
   "cell_type": "code",
   "execution_count": null,
   "metadata": {},
   "outputs": [],
   "source": []
  }
 ]
}